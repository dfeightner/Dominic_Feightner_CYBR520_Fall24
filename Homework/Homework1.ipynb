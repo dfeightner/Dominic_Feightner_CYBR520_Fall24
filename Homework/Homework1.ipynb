{
 "cells": [
  {
   "cell_type": "markdown",
   "id": "b3554aab-b442-4af3-981a-4cbb3e476588",
   "metadata": {},
   "source": [
    "# 1.Create a line chart to visualize the distribution of the 'capitalLong' feature"
   ]
  },
  {
   "cell_type": "code",
   "execution_count": 1,
   "id": "b006d0e9-574a-4035-af17-ea7c876cb965",
   "metadata": {},
   "outputs": [
    {
     "ename": "NameError",
     "evalue": "name 'pd' is not defined",
     "output_type": "error",
     "traceback": [
      "\u001b[1;31m---------------------------------------------------------------------------\u001b[0m",
      "\u001b[1;31mNameError\u001b[0m                                 Traceback (most recent call last)",
      "Cell \u001b[1;32mIn[1], line 1\u001b[0m\n\u001b[1;32m----> 1\u001b[0m df \u001b[38;5;241m=\u001b[39m pd\u001b[38;5;241m.\u001b[39mread_csv(\u001b[38;5;124m'\u001b[39m\u001b[38;5;124mdataset.csv\u001b[39m\u001b[38;5;124m'\u001b[39m)\n",
      "\u001b[1;31mNameError\u001b[0m: name 'pd' is not defined"
     ]
    }
   ],
   "source": [
    "df = pd.read_csv('dataset.csv')"
   ]
  },
  {
   "cell_type": "code",
   "execution_count": 2,
   "id": "9a695147-7f8f-48e1-a9ae-3df9a29aeec8",
   "metadata": {},
   "outputs": [
    {
     "name": "stdout",
     "output_type": "stream",
     "text": [
      "Requirement already satisfied: radar in c:\\users\\dfeig\\appdata\\roaming\\python\\python311\\site-packages (0.3)\n",
      "Requirement already satisfied: faker in c:\\users\\dfeig\\appdata\\roaming\\python\\python311\\site-packages (30.8.2)\n",
      "Requirement already satisfied: python-dateutil>=2.4 in c:\\programdata\\miniconda3\\envs\\pythoncybr520\\lib\\site-packages (from faker) (2.9.0.post0)\n",
      "Requirement already satisfied: typing-extensions in c:\\programdata\\miniconda3\\envs\\pythoncybr520\\lib\\site-packages (from faker) (4.11.0)\n",
      "Requirement already satisfied: six>=1.5 in c:\\programdata\\miniconda3\\envs\\pythoncybr520\\lib\\site-packages (from python-dateutil>=2.4->faker) (1.16.0)\n"
     ]
    }
   ],
   "source": [
    "!pip install radar\n",
    "!pip install faker"
   ]
  },
  {
   "cell_type": "code",
   "execution_count": 3,
   "id": "e9c11d4a-b5f0-4d10-a9f3-6331b80655bf",
   "metadata": {},
   "outputs": [
    {
     "name": "stdout",
     "output_type": "stream",
     "text": [
      "Requirement already satisfied: pandas in c:\\users\\dfeig\\appdata\\roaming\\python\\python311\\site-packages (2.2.3)\n",
      "Requirement already satisfied: numpy>=1.23.2 in c:\\users\\dfeig\\appdata\\roaming\\python\\python311\\site-packages (from pandas) (2.1.3)\n",
      "Requirement already satisfied: python-dateutil>=2.8.2 in c:\\programdata\\miniconda3\\envs\\pythoncybr520\\lib\\site-packages (from pandas) (2.9.0.post0)\n",
      "Requirement already satisfied: pytz>=2020.1 in c:\\programdata\\miniconda3\\envs\\pythoncybr520\\lib\\site-packages (from pandas) (2024.1)\n",
      "Requirement already satisfied: tzdata>=2022.7 in c:\\users\\dfeig\\appdata\\roaming\\python\\python311\\site-packages (from pandas) (2024.2)\n",
      "Requirement already satisfied: six>=1.5 in c:\\programdata\\miniconda3\\envs\\pythoncybr520\\lib\\site-packages (from python-dateutil>=2.8.2->pandas) (1.16.0)\n"
     ]
    }
   ],
   "source": [
    "!pip install pandas"
   ]
  },
  {
   "cell_type": "code",
   "execution_count": 1,
   "id": "6aed9570-186c-4626-a4b5-4d5d51dc597b",
   "metadata": {},
   "outputs": [],
   "source": [
    "import pandas as pd"
   ]
  },
  {
   "cell_type": "code",
   "execution_count": 16,
   "id": "105035e5-a642-4dd8-88c5-2b7629994095",
   "metadata": {},
   "outputs": [],
   "source": [
    "df = pd.read_csv('Spambase.csv')"
   ]
  },
  {
   "cell_type": "code",
   "execution_count": 18,
   "id": "df1b976d-0cc4-4199-8520-0a2bfe997f79",
   "metadata": {},
   "outputs": [
    {
     "data": {
      "text/html": [
       "<div>\n",
       "<style scoped>\n",
       "    .dataframe tbody tr th:only-of-type {\n",
       "        vertical-align: middle;\n",
       "    }\n",
       "\n",
       "    .dataframe tbody tr th {\n",
       "        vertical-align: top;\n",
       "    }\n",
       "\n",
       "    .dataframe thead th {\n",
       "        text-align: right;\n",
       "    }\n",
       "</style>\n",
       "<table border=\"1\" class=\"dataframe\">\n",
       "  <thead>\n",
       "    <tr style=\"text-align: right;\">\n",
       "      <th></th>\n",
       "      <th>make</th>\n",
       "      <th>address</th>\n",
       "      <th>all</th>\n",
       "      <th>num3d</th>\n",
       "      <th>our</th>\n",
       "      <th>over</th>\n",
       "      <th>remove</th>\n",
       "      <th>internet</th>\n",
       "      <th>order</th>\n",
       "      <th>mail</th>\n",
       "      <th>...</th>\n",
       "      <th>charSemicolon</th>\n",
       "      <th>charRoundbracket</th>\n",
       "      <th>charSquarebracket</th>\n",
       "      <th>charExclamation</th>\n",
       "      <th>charDollar</th>\n",
       "      <th>charHash</th>\n",
       "      <th>capitalAve</th>\n",
       "      <th>capitalLong</th>\n",
       "      <th>capitalTotal</th>\n",
       "      <th>type</th>\n",
       "    </tr>\n",
       "  </thead>\n",
       "  <tbody>\n",
       "    <tr>\n",
       "      <th>0</th>\n",
       "      <td>0.00</td>\n",
       "      <td>0.64</td>\n",
       "      <td>0.64</td>\n",
       "      <td>0.0</td>\n",
       "      <td>0.32</td>\n",
       "      <td>0.00</td>\n",
       "      <td>0.00</td>\n",
       "      <td>0.00</td>\n",
       "      <td>0.00</td>\n",
       "      <td>0.00</td>\n",
       "      <td>...</td>\n",
       "      <td>0.000</td>\n",
       "      <td>0.000</td>\n",
       "      <td>0.000</td>\n",
       "      <td>0.778</td>\n",
       "      <td>0.000</td>\n",
       "      <td>0.000</td>\n",
       "      <td>3.756</td>\n",
       "      <td>61</td>\n",
       "      <td>278</td>\n",
       "      <td>spam</td>\n",
       "    </tr>\n",
       "    <tr>\n",
       "      <th>1</th>\n",
       "      <td>0.21</td>\n",
       "      <td>0.28</td>\n",
       "      <td>0.50</td>\n",
       "      <td>0.0</td>\n",
       "      <td>0.14</td>\n",
       "      <td>0.28</td>\n",
       "      <td>0.21</td>\n",
       "      <td>0.07</td>\n",
       "      <td>0.00</td>\n",
       "      <td>0.94</td>\n",
       "      <td>...</td>\n",
       "      <td>0.000</td>\n",
       "      <td>0.132</td>\n",
       "      <td>0.000</td>\n",
       "      <td>0.372</td>\n",
       "      <td>0.180</td>\n",
       "      <td>0.048</td>\n",
       "      <td>5.114</td>\n",
       "      <td>101</td>\n",
       "      <td>1028</td>\n",
       "      <td>spam</td>\n",
       "    </tr>\n",
       "    <tr>\n",
       "      <th>2</th>\n",
       "      <td>0.06</td>\n",
       "      <td>0.00</td>\n",
       "      <td>0.71</td>\n",
       "      <td>0.0</td>\n",
       "      <td>1.23</td>\n",
       "      <td>0.19</td>\n",
       "      <td>0.19</td>\n",
       "      <td>0.12</td>\n",
       "      <td>0.64</td>\n",
       "      <td>0.25</td>\n",
       "      <td>...</td>\n",
       "      <td>0.010</td>\n",
       "      <td>0.143</td>\n",
       "      <td>0.000</td>\n",
       "      <td>0.276</td>\n",
       "      <td>0.184</td>\n",
       "      <td>0.010</td>\n",
       "      <td>9.821</td>\n",
       "      <td>485</td>\n",
       "      <td>2259</td>\n",
       "      <td>spam</td>\n",
       "    </tr>\n",
       "    <tr>\n",
       "      <th>3</th>\n",
       "      <td>0.00</td>\n",
       "      <td>0.00</td>\n",
       "      <td>0.00</td>\n",
       "      <td>0.0</td>\n",
       "      <td>0.63</td>\n",
       "      <td>0.00</td>\n",
       "      <td>0.31</td>\n",
       "      <td>0.63</td>\n",
       "      <td>0.31</td>\n",
       "      <td>0.63</td>\n",
       "      <td>...</td>\n",
       "      <td>0.000</td>\n",
       "      <td>0.137</td>\n",
       "      <td>0.000</td>\n",
       "      <td>0.137</td>\n",
       "      <td>0.000</td>\n",
       "      <td>0.000</td>\n",
       "      <td>3.537</td>\n",
       "      <td>40</td>\n",
       "      <td>191</td>\n",
       "      <td>spam</td>\n",
       "    </tr>\n",
       "    <tr>\n",
       "      <th>4</th>\n",
       "      <td>0.00</td>\n",
       "      <td>0.00</td>\n",
       "      <td>0.00</td>\n",
       "      <td>0.0</td>\n",
       "      <td>0.63</td>\n",
       "      <td>0.00</td>\n",
       "      <td>0.31</td>\n",
       "      <td>0.63</td>\n",
       "      <td>0.31</td>\n",
       "      <td>0.63</td>\n",
       "      <td>...</td>\n",
       "      <td>0.000</td>\n",
       "      <td>0.135</td>\n",
       "      <td>0.000</td>\n",
       "      <td>0.135</td>\n",
       "      <td>0.000</td>\n",
       "      <td>0.000</td>\n",
       "      <td>3.537</td>\n",
       "      <td>40</td>\n",
       "      <td>191</td>\n",
       "      <td>spam</td>\n",
       "    </tr>\n",
       "    <tr>\n",
       "      <th>5</th>\n",
       "      <td>0.00</td>\n",
       "      <td>0.00</td>\n",
       "      <td>0.00</td>\n",
       "      <td>0.0</td>\n",
       "      <td>1.85</td>\n",
       "      <td>0.00</td>\n",
       "      <td>0.00</td>\n",
       "      <td>1.85</td>\n",
       "      <td>0.00</td>\n",
       "      <td>0.00</td>\n",
       "      <td>...</td>\n",
       "      <td>0.000</td>\n",
       "      <td>0.223</td>\n",
       "      <td>0.000</td>\n",
       "      <td>0.000</td>\n",
       "      <td>0.000</td>\n",
       "      <td>0.000</td>\n",
       "      <td>3.000</td>\n",
       "      <td>15</td>\n",
       "      <td>54</td>\n",
       "      <td>spam</td>\n",
       "    </tr>\n",
       "    <tr>\n",
       "      <th>6</th>\n",
       "      <td>0.00</td>\n",
       "      <td>0.00</td>\n",
       "      <td>0.00</td>\n",
       "      <td>0.0</td>\n",
       "      <td>1.92</td>\n",
       "      <td>0.00</td>\n",
       "      <td>0.00</td>\n",
       "      <td>0.00</td>\n",
       "      <td>0.00</td>\n",
       "      <td>0.64</td>\n",
       "      <td>...</td>\n",
       "      <td>0.000</td>\n",
       "      <td>0.054</td>\n",
       "      <td>0.000</td>\n",
       "      <td>0.164</td>\n",
       "      <td>0.054</td>\n",
       "      <td>0.000</td>\n",
       "      <td>1.671</td>\n",
       "      <td>4</td>\n",
       "      <td>112</td>\n",
       "      <td>spam</td>\n",
       "    </tr>\n",
       "    <tr>\n",
       "      <th>7</th>\n",
       "      <td>0.00</td>\n",
       "      <td>0.00</td>\n",
       "      <td>0.00</td>\n",
       "      <td>0.0</td>\n",
       "      <td>1.88</td>\n",
       "      <td>0.00</td>\n",
       "      <td>0.00</td>\n",
       "      <td>1.88</td>\n",
       "      <td>0.00</td>\n",
       "      <td>0.00</td>\n",
       "      <td>...</td>\n",
       "      <td>0.000</td>\n",
       "      <td>0.206</td>\n",
       "      <td>0.000</td>\n",
       "      <td>0.000</td>\n",
       "      <td>0.000</td>\n",
       "      <td>0.000</td>\n",
       "      <td>2.450</td>\n",
       "      <td>11</td>\n",
       "      <td>49</td>\n",
       "      <td>spam</td>\n",
       "    </tr>\n",
       "    <tr>\n",
       "      <th>8</th>\n",
       "      <td>0.15</td>\n",
       "      <td>0.00</td>\n",
       "      <td>0.46</td>\n",
       "      <td>0.0</td>\n",
       "      <td>0.61</td>\n",
       "      <td>0.00</td>\n",
       "      <td>0.30</td>\n",
       "      <td>0.00</td>\n",
       "      <td>0.92</td>\n",
       "      <td>0.76</td>\n",
       "      <td>...</td>\n",
       "      <td>0.000</td>\n",
       "      <td>0.271</td>\n",
       "      <td>0.000</td>\n",
       "      <td>0.181</td>\n",
       "      <td>0.203</td>\n",
       "      <td>0.022</td>\n",
       "      <td>9.744</td>\n",
       "      <td>445</td>\n",
       "      <td>1257</td>\n",
       "      <td>spam</td>\n",
       "    </tr>\n",
       "    <tr>\n",
       "      <th>9</th>\n",
       "      <td>0.06</td>\n",
       "      <td>0.12</td>\n",
       "      <td>0.77</td>\n",
       "      <td>0.0</td>\n",
       "      <td>0.19</td>\n",
       "      <td>0.32</td>\n",
       "      <td>0.38</td>\n",
       "      <td>0.00</td>\n",
       "      <td>0.06</td>\n",
       "      <td>0.00</td>\n",
       "      <td>...</td>\n",
       "      <td>0.040</td>\n",
       "      <td>0.030</td>\n",
       "      <td>0.000</td>\n",
       "      <td>0.244</td>\n",
       "      <td>0.081</td>\n",
       "      <td>0.000</td>\n",
       "      <td>1.729</td>\n",
       "      <td>43</td>\n",
       "      <td>749</td>\n",
       "      <td>spam</td>\n",
       "    </tr>\n",
       "    <tr>\n",
       "      <th>10</th>\n",
       "      <td>0.00</td>\n",
       "      <td>0.00</td>\n",
       "      <td>0.00</td>\n",
       "      <td>0.0</td>\n",
       "      <td>0.00</td>\n",
       "      <td>0.00</td>\n",
       "      <td>0.96</td>\n",
       "      <td>0.00</td>\n",
       "      <td>0.00</td>\n",
       "      <td>1.92</td>\n",
       "      <td>...</td>\n",
       "      <td>0.000</td>\n",
       "      <td>0.000</td>\n",
       "      <td>0.000</td>\n",
       "      <td>0.462</td>\n",
       "      <td>0.000</td>\n",
       "      <td>0.000</td>\n",
       "      <td>1.312</td>\n",
       "      <td>6</td>\n",
       "      <td>21</td>\n",
       "      <td>spam</td>\n",
       "    </tr>\n",
       "    <tr>\n",
       "      <th>11</th>\n",
       "      <td>0.00</td>\n",
       "      <td>0.00</td>\n",
       "      <td>0.25</td>\n",
       "      <td>0.0</td>\n",
       "      <td>0.38</td>\n",
       "      <td>0.25</td>\n",
       "      <td>0.25</td>\n",
       "      <td>0.00</td>\n",
       "      <td>0.00</td>\n",
       "      <td>0.00</td>\n",
       "      <td>...</td>\n",
       "      <td>0.022</td>\n",
       "      <td>0.044</td>\n",
       "      <td>0.000</td>\n",
       "      <td>0.663</td>\n",
       "      <td>0.000</td>\n",
       "      <td>0.000</td>\n",
       "      <td>1.243</td>\n",
       "      <td>11</td>\n",
       "      <td>184</td>\n",
       "      <td>spam</td>\n",
       "    </tr>\n",
       "    <tr>\n",
       "      <th>12</th>\n",
       "      <td>0.00</td>\n",
       "      <td>0.69</td>\n",
       "      <td>0.34</td>\n",
       "      <td>0.0</td>\n",
       "      <td>0.34</td>\n",
       "      <td>0.00</td>\n",
       "      <td>0.00</td>\n",
       "      <td>0.00</td>\n",
       "      <td>0.00</td>\n",
       "      <td>0.00</td>\n",
       "      <td>...</td>\n",
       "      <td>0.000</td>\n",
       "      <td>0.056</td>\n",
       "      <td>0.000</td>\n",
       "      <td>0.786</td>\n",
       "      <td>0.000</td>\n",
       "      <td>0.000</td>\n",
       "      <td>3.728</td>\n",
       "      <td>61</td>\n",
       "      <td>261</td>\n",
       "      <td>spam</td>\n",
       "    </tr>\n",
       "    <tr>\n",
       "      <th>13</th>\n",
       "      <td>0.00</td>\n",
       "      <td>0.00</td>\n",
       "      <td>0.00</td>\n",
       "      <td>0.0</td>\n",
       "      <td>0.90</td>\n",
       "      <td>0.00</td>\n",
       "      <td>0.90</td>\n",
       "      <td>0.00</td>\n",
       "      <td>0.00</td>\n",
       "      <td>0.90</td>\n",
       "      <td>...</td>\n",
       "      <td>0.000</td>\n",
       "      <td>0.000</td>\n",
       "      <td>0.000</td>\n",
       "      <td>0.000</td>\n",
       "      <td>0.000</td>\n",
       "      <td>0.000</td>\n",
       "      <td>2.083</td>\n",
       "      <td>7</td>\n",
       "      <td>25</td>\n",
       "      <td>spam</td>\n",
       "    </tr>\n",
       "    <tr>\n",
       "      <th>14</th>\n",
       "      <td>0.00</td>\n",
       "      <td>0.00</td>\n",
       "      <td>1.42</td>\n",
       "      <td>0.0</td>\n",
       "      <td>0.71</td>\n",
       "      <td>0.35</td>\n",
       "      <td>0.00</td>\n",
       "      <td>0.35</td>\n",
       "      <td>0.00</td>\n",
       "      <td>0.71</td>\n",
       "      <td>...</td>\n",
       "      <td>0.000</td>\n",
       "      <td>0.102</td>\n",
       "      <td>0.000</td>\n",
       "      <td>0.357</td>\n",
       "      <td>0.000</td>\n",
       "      <td>0.000</td>\n",
       "      <td>1.971</td>\n",
       "      <td>24</td>\n",
       "      <td>205</td>\n",
       "      <td>spam</td>\n",
       "    </tr>\n",
       "    <tr>\n",
       "      <th>15</th>\n",
       "      <td>0.00</td>\n",
       "      <td>0.42</td>\n",
       "      <td>0.42</td>\n",
       "      <td>0.0</td>\n",
       "      <td>1.27</td>\n",
       "      <td>0.00</td>\n",
       "      <td>0.42</td>\n",
       "      <td>0.00</td>\n",
       "      <td>0.00</td>\n",
       "      <td>1.27</td>\n",
       "      <td>...</td>\n",
       "      <td>0.000</td>\n",
       "      <td>0.063</td>\n",
       "      <td>0.000</td>\n",
       "      <td>0.572</td>\n",
       "      <td>0.063</td>\n",
       "      <td>0.000</td>\n",
       "      <td>5.659</td>\n",
       "      <td>55</td>\n",
       "      <td>249</td>\n",
       "      <td>spam</td>\n",
       "    </tr>\n",
       "    <tr>\n",
       "      <th>16</th>\n",
       "      <td>0.00</td>\n",
       "      <td>0.00</td>\n",
       "      <td>0.00</td>\n",
       "      <td>0.0</td>\n",
       "      <td>0.94</td>\n",
       "      <td>0.00</td>\n",
       "      <td>0.00</td>\n",
       "      <td>0.00</td>\n",
       "      <td>0.00</td>\n",
       "      <td>0.00</td>\n",
       "      <td>...</td>\n",
       "      <td>0.000</td>\n",
       "      <td>0.000</td>\n",
       "      <td>0.000</td>\n",
       "      <td>0.428</td>\n",
       "      <td>0.000</td>\n",
       "      <td>0.000</td>\n",
       "      <td>4.652</td>\n",
       "      <td>31</td>\n",
       "      <td>107</td>\n",
       "      <td>spam</td>\n",
       "    </tr>\n",
       "    <tr>\n",
       "      <th>17</th>\n",
       "      <td>0.00</td>\n",
       "      <td>0.00</td>\n",
       "      <td>0.00</td>\n",
       "      <td>0.0</td>\n",
       "      <td>0.00</td>\n",
       "      <td>0.00</td>\n",
       "      <td>0.00</td>\n",
       "      <td>0.00</td>\n",
       "      <td>0.00</td>\n",
       "      <td>0.00</td>\n",
       "      <td>...</td>\n",
       "      <td>0.000</td>\n",
       "      <td>0.000</td>\n",
       "      <td>0.000</td>\n",
       "      <td>1.975</td>\n",
       "      <td>0.370</td>\n",
       "      <td>0.000</td>\n",
       "      <td>35.461</td>\n",
       "      <td>95</td>\n",
       "      <td>461</td>\n",
       "      <td>spam</td>\n",
       "    </tr>\n",
       "    <tr>\n",
       "      <th>18</th>\n",
       "      <td>0.00</td>\n",
       "      <td>0.00</td>\n",
       "      <td>0.55</td>\n",
       "      <td>0.0</td>\n",
       "      <td>1.11</td>\n",
       "      <td>0.00</td>\n",
       "      <td>0.18</td>\n",
       "      <td>0.00</td>\n",
       "      <td>0.00</td>\n",
       "      <td>0.00</td>\n",
       "      <td>...</td>\n",
       "      <td>0.000</td>\n",
       "      <td>0.182</td>\n",
       "      <td>0.000</td>\n",
       "      <td>0.455</td>\n",
       "      <td>0.000</td>\n",
       "      <td>0.000</td>\n",
       "      <td>1.320</td>\n",
       "      <td>4</td>\n",
       "      <td>70</td>\n",
       "      <td>spam</td>\n",
       "    </tr>\n",
       "    <tr>\n",
       "      <th>19</th>\n",
       "      <td>0.00</td>\n",
       "      <td>0.63</td>\n",
       "      <td>0.00</td>\n",
       "      <td>0.0</td>\n",
       "      <td>1.59</td>\n",
       "      <td>0.31</td>\n",
       "      <td>0.00</td>\n",
       "      <td>0.00</td>\n",
       "      <td>0.31</td>\n",
       "      <td>0.00</td>\n",
       "      <td>...</td>\n",
       "      <td>0.000</td>\n",
       "      <td>0.275</td>\n",
       "      <td>0.000</td>\n",
       "      <td>0.055</td>\n",
       "      <td>0.496</td>\n",
       "      <td>0.000</td>\n",
       "      <td>3.509</td>\n",
       "      <td>91</td>\n",
       "      <td>186</td>\n",
       "      <td>spam</td>\n",
       "    </tr>\n",
       "    <tr>\n",
       "      <th>20</th>\n",
       "      <td>0.00</td>\n",
       "      <td>0.00</td>\n",
       "      <td>0.00</td>\n",
       "      <td>0.0</td>\n",
       "      <td>0.00</td>\n",
       "      <td>0.00</td>\n",
       "      <td>0.00</td>\n",
       "      <td>0.00</td>\n",
       "      <td>0.00</td>\n",
       "      <td>0.00</td>\n",
       "      <td>...</td>\n",
       "      <td>0.000</td>\n",
       "      <td>0.729</td>\n",
       "      <td>0.000</td>\n",
       "      <td>0.729</td>\n",
       "      <td>0.000</td>\n",
       "      <td>0.000</td>\n",
       "      <td>3.833</td>\n",
       "      <td>9</td>\n",
       "      <td>23</td>\n",
       "      <td>spam</td>\n",
       "    </tr>\n",
       "    <tr>\n",
       "      <th>21</th>\n",
       "      <td>0.05</td>\n",
       "      <td>0.07</td>\n",
       "      <td>0.10</td>\n",
       "      <td>0.0</td>\n",
       "      <td>0.76</td>\n",
       "      <td>0.05</td>\n",
       "      <td>0.15</td>\n",
       "      <td>0.02</td>\n",
       "      <td>0.55</td>\n",
       "      <td>0.00</td>\n",
       "      <td>...</td>\n",
       "      <td>0.042</td>\n",
       "      <td>0.101</td>\n",
       "      <td>0.016</td>\n",
       "      <td>0.250</td>\n",
       "      <td>0.046</td>\n",
       "      <td>0.059</td>\n",
       "      <td>2.569</td>\n",
       "      <td>66</td>\n",
       "      <td>2259</td>\n",
       "      <td>spam</td>\n",
       "    </tr>\n",
       "    <tr>\n",
       "      <th>22</th>\n",
       "      <td>0.00</td>\n",
       "      <td>0.00</td>\n",
       "      <td>0.00</td>\n",
       "      <td>0.0</td>\n",
       "      <td>2.94</td>\n",
       "      <td>0.00</td>\n",
       "      <td>0.00</td>\n",
       "      <td>0.00</td>\n",
       "      <td>0.00</td>\n",
       "      <td>0.00</td>\n",
       "      <td>...</td>\n",
       "      <td>0.404</td>\n",
       "      <td>0.404</td>\n",
       "      <td>0.000</td>\n",
       "      <td>0.809</td>\n",
       "      <td>0.000</td>\n",
       "      <td>0.000</td>\n",
       "      <td>4.857</td>\n",
       "      <td>12</td>\n",
       "      <td>34</td>\n",
       "      <td>spam</td>\n",
       "    </tr>\n",
       "    <tr>\n",
       "      <th>23</th>\n",
       "      <td>0.00</td>\n",
       "      <td>0.00</td>\n",
       "      <td>0.00</td>\n",
       "      <td>0.0</td>\n",
       "      <td>1.16</td>\n",
       "      <td>0.00</td>\n",
       "      <td>0.00</td>\n",
       "      <td>0.00</td>\n",
       "      <td>0.00</td>\n",
       "      <td>0.00</td>\n",
       "      <td>...</td>\n",
       "      <td>0.000</td>\n",
       "      <td>0.133</td>\n",
       "      <td>0.000</td>\n",
       "      <td>0.667</td>\n",
       "      <td>0.000</td>\n",
       "      <td>0.000</td>\n",
       "      <td>1.131</td>\n",
       "      <td>5</td>\n",
       "      <td>69</td>\n",
       "      <td>spam</td>\n",
       "    </tr>\n",
       "    <tr>\n",
       "      <th>24</th>\n",
       "      <td>0.00</td>\n",
       "      <td>0.00</td>\n",
       "      <td>0.00</td>\n",
       "      <td>0.0</td>\n",
       "      <td>0.00</td>\n",
       "      <td>0.00</td>\n",
       "      <td>0.00</td>\n",
       "      <td>0.00</td>\n",
       "      <td>0.00</td>\n",
       "      <td>0.00</td>\n",
       "      <td>...</td>\n",
       "      <td>0.000</td>\n",
       "      <td>0.196</td>\n",
       "      <td>0.000</td>\n",
       "      <td>0.392</td>\n",
       "      <td>0.196</td>\n",
       "      <td>0.000</td>\n",
       "      <td>5.466</td>\n",
       "      <td>22</td>\n",
       "      <td>82</td>\n",
       "      <td>spam</td>\n",
       "    </tr>\n",
       "    <tr>\n",
       "      <th>25</th>\n",
       "      <td>0.05</td>\n",
       "      <td>0.07</td>\n",
       "      <td>0.10</td>\n",
       "      <td>0.0</td>\n",
       "      <td>0.76</td>\n",
       "      <td>0.05</td>\n",
       "      <td>0.15</td>\n",
       "      <td>0.02</td>\n",
       "      <td>0.55</td>\n",
       "      <td>0.00</td>\n",
       "      <td>...</td>\n",
       "      <td>0.042</td>\n",
       "      <td>0.101</td>\n",
       "      <td>0.016</td>\n",
       "      <td>0.250</td>\n",
       "      <td>0.046</td>\n",
       "      <td>0.059</td>\n",
       "      <td>2.565</td>\n",
       "      <td>66</td>\n",
       "      <td>2258</td>\n",
       "      <td>spam</td>\n",
       "    </tr>\n",
       "    <tr>\n",
       "      <th>26</th>\n",
       "      <td>0.00</td>\n",
       "      <td>0.00</td>\n",
       "      <td>0.00</td>\n",
       "      <td>0.0</td>\n",
       "      <td>0.00</td>\n",
       "      <td>0.00</td>\n",
       "      <td>0.00</td>\n",
       "      <td>0.00</td>\n",
       "      <td>0.00</td>\n",
       "      <td>0.00</td>\n",
       "      <td>...</td>\n",
       "      <td>0.000</td>\n",
       "      <td>0.196</td>\n",
       "      <td>0.000</td>\n",
       "      <td>0.392</td>\n",
       "      <td>0.196</td>\n",
       "      <td>0.000</td>\n",
       "      <td>5.466</td>\n",
       "      <td>22</td>\n",
       "      <td>82</td>\n",
       "      <td>spam</td>\n",
       "    </tr>\n",
       "    <tr>\n",
       "      <th>27</th>\n",
       "      <td>0.00</td>\n",
       "      <td>0.00</td>\n",
       "      <td>0.00</td>\n",
       "      <td>0.0</td>\n",
       "      <td>0.00</td>\n",
       "      <td>0.00</td>\n",
       "      <td>1.66</td>\n",
       "      <td>0.00</td>\n",
       "      <td>0.00</td>\n",
       "      <td>0.00</td>\n",
       "      <td>...</td>\n",
       "      <td>0.000</td>\n",
       "      <td>0.000</td>\n",
       "      <td>0.000</td>\n",
       "      <td>0.368</td>\n",
       "      <td>0.000</td>\n",
       "      <td>0.000</td>\n",
       "      <td>2.611</td>\n",
       "      <td>12</td>\n",
       "      <td>47</td>\n",
       "      <td>spam</td>\n",
       "    </tr>\n",
       "    <tr>\n",
       "      <th>28</th>\n",
       "      <td>0.00</td>\n",
       "      <td>0.00</td>\n",
       "      <td>0.00</td>\n",
       "      <td>0.0</td>\n",
       "      <td>0.00</td>\n",
       "      <td>0.00</td>\n",
       "      <td>0.00</td>\n",
       "      <td>0.00</td>\n",
       "      <td>0.00</td>\n",
       "      <td>0.00</td>\n",
       "      <td>...</td>\n",
       "      <td>0.000</td>\n",
       "      <td>0.352</td>\n",
       "      <td>0.000</td>\n",
       "      <td>0.352</td>\n",
       "      <td>0.000</td>\n",
       "      <td>0.000</td>\n",
       "      <td>4.000</td>\n",
       "      <td>11</td>\n",
       "      <td>36</td>\n",
       "      <td>spam</td>\n",
       "    </tr>\n",
       "    <tr>\n",
       "      <th>29</th>\n",
       "      <td>0.00</td>\n",
       "      <td>0.00</td>\n",
       "      <td>0.00</td>\n",
       "      <td>0.0</td>\n",
       "      <td>0.65</td>\n",
       "      <td>0.00</td>\n",
       "      <td>0.65</td>\n",
       "      <td>0.00</td>\n",
       "      <td>0.00</td>\n",
       "      <td>0.00</td>\n",
       "      <td>...</td>\n",
       "      <td>0.000</td>\n",
       "      <td>0.459</td>\n",
       "      <td>0.000</td>\n",
       "      <td>0.091</td>\n",
       "      <td>0.000</td>\n",
       "      <td>0.000</td>\n",
       "      <td>2.687</td>\n",
       "      <td>66</td>\n",
       "      <td>129</td>\n",
       "      <td>spam</td>\n",
       "    </tr>\n",
       "    <tr>\n",
       "      <th>30</th>\n",
       "      <td>1.17</td>\n",
       "      <td>0.00</td>\n",
       "      <td>0.00</td>\n",
       "      <td>0.0</td>\n",
       "      <td>0.00</td>\n",
       "      <td>0.00</td>\n",
       "      <td>0.00</td>\n",
       "      <td>0.00</td>\n",
       "      <td>0.00</td>\n",
       "      <td>0.00</td>\n",
       "      <td>...</td>\n",
       "      <td>0.000</td>\n",
       "      <td>0.000</td>\n",
       "      <td>0.000</td>\n",
       "      <td>0.886</td>\n",
       "      <td>0.000</td>\n",
       "      <td>0.000</td>\n",
       "      <td>1.966</td>\n",
       "      <td>10</td>\n",
       "      <td>59</td>\n",
       "      <td>spam</td>\n",
       "    </tr>\n",
       "    <tr>\n",
       "      <th>31</th>\n",
       "      <td>0.00</td>\n",
       "      <td>0.00</td>\n",
       "      <td>3.03</td>\n",
       "      <td>0.0</td>\n",
       "      <td>0.00</td>\n",
       "      <td>0.00</td>\n",
       "      <td>0.00</td>\n",
       "      <td>0.00</td>\n",
       "      <td>0.00</td>\n",
       "      <td>0.00</td>\n",
       "      <td>...</td>\n",
       "      <td>0.000</td>\n",
       "      <td>0.352</td>\n",
       "      <td>0.000</td>\n",
       "      <td>2.112</td>\n",
       "      <td>0.000</td>\n",
       "      <td>0.000</td>\n",
       "      <td>3.909</td>\n",
       "      <td>11</td>\n",
       "      <td>43</td>\n",
       "      <td>spam</td>\n",
       "    </tr>\n",
       "    <tr>\n",
       "      <th>32</th>\n",
       "      <td>0.00</td>\n",
       "      <td>0.00</td>\n",
       "      <td>0.00</td>\n",
       "      <td>0.0</td>\n",
       "      <td>1.89</td>\n",
       "      <td>0.27</td>\n",
       "      <td>0.00</td>\n",
       "      <td>0.00</td>\n",
       "      <td>0.00</td>\n",
       "      <td>0.00</td>\n",
       "      <td>...</td>\n",
       "      <td>0.000</td>\n",
       "      <td>0.045</td>\n",
       "      <td>0.000</td>\n",
       "      <td>0.000</td>\n",
       "      <td>0.091</td>\n",
       "      <td>0.000</td>\n",
       "      <td>1.390</td>\n",
       "      <td>11</td>\n",
       "      <td>89</td>\n",
       "      <td>spam</td>\n",
       "    </tr>\n",
       "    <tr>\n",
       "      <th>33</th>\n",
       "      <td>0.00</td>\n",
       "      <td>0.00</td>\n",
       "      <td>0.00</td>\n",
       "      <td>0.0</td>\n",
       "      <td>0.00</td>\n",
       "      <td>0.00</td>\n",
       "      <td>0.00</td>\n",
       "      <td>0.00</td>\n",
       "      <td>0.00</td>\n",
       "      <td>0.00</td>\n",
       "      <td>...</td>\n",
       "      <td>0.000</td>\n",
       "      <td>0.000</td>\n",
       "      <td>0.000</td>\n",
       "      <td>0.000</td>\n",
       "      <td>0.302</td>\n",
       "      <td>0.000</td>\n",
       "      <td>1.700</td>\n",
       "      <td>5</td>\n",
       "      <td>17</td>\n",
       "      <td>spam</td>\n",
       "    </tr>\n",
       "    <tr>\n",
       "      <th>34</th>\n",
       "      <td>0.00</td>\n",
       "      <td>0.68</td>\n",
       "      <td>0.00</td>\n",
       "      <td>0.0</td>\n",
       "      <td>0.00</td>\n",
       "      <td>0.00</td>\n",
       "      <td>0.00</td>\n",
       "      <td>0.00</td>\n",
       "      <td>0.00</td>\n",
       "      <td>0.68</td>\n",
       "      <td>...</td>\n",
       "      <td>0.000</td>\n",
       "      <td>0.000</td>\n",
       "      <td>0.185</td>\n",
       "      <td>0.000</td>\n",
       "      <td>0.000</td>\n",
       "      <td>0.000</td>\n",
       "      <td>3.826</td>\n",
       "      <td>30</td>\n",
       "      <td>264</td>\n",
       "      <td>spam</td>\n",
       "    </tr>\n",
       "    <tr>\n",
       "      <th>35</th>\n",
       "      <td>0.00</td>\n",
       "      <td>0.00</td>\n",
       "      <td>2.56</td>\n",
       "      <td>0.0</td>\n",
       "      <td>0.00</td>\n",
       "      <td>0.00</td>\n",
       "      <td>0.00</td>\n",
       "      <td>0.00</td>\n",
       "      <td>0.00</td>\n",
       "      <td>0.00</td>\n",
       "      <td>...</td>\n",
       "      <td>0.000</td>\n",
       "      <td>0.308</td>\n",
       "      <td>0.000</td>\n",
       "      <td>1.543</td>\n",
       "      <td>0.000</td>\n",
       "      <td>0.000</td>\n",
       "      <td>2.777</td>\n",
       "      <td>6</td>\n",
       "      <td>25</td>\n",
       "      <td>spam</td>\n",
       "    </tr>\n",
       "    <tr>\n",
       "      <th>36</th>\n",
       "      <td>0.00</td>\n",
       "      <td>0.00</td>\n",
       "      <td>0.00</td>\n",
       "      <td>0.0</td>\n",
       "      <td>2.94</td>\n",
       "      <td>0.00</td>\n",
       "      <td>0.00</td>\n",
       "      <td>0.00</td>\n",
       "      <td>0.00</td>\n",
       "      <td>0.00</td>\n",
       "      <td>...</td>\n",
       "      <td>0.436</td>\n",
       "      <td>0.436</td>\n",
       "      <td>0.000</td>\n",
       "      <td>0.873</td>\n",
       "      <td>0.000</td>\n",
       "      <td>0.000</td>\n",
       "      <td>4.142</td>\n",
       "      <td>12</td>\n",
       "      <td>29</td>\n",
       "      <td>spam</td>\n",
       "    </tr>\n",
       "    <tr>\n",
       "      <th>37</th>\n",
       "      <td>0.00</td>\n",
       "      <td>0.00</td>\n",
       "      <td>0.48</td>\n",
       "      <td>0.0</td>\n",
       "      <td>1.46</td>\n",
       "      <td>0.00</td>\n",
       "      <td>0.48</td>\n",
       "      <td>0.00</td>\n",
       "      <td>0.00</td>\n",
       "      <td>0.00</td>\n",
       "      <td>...</td>\n",
       "      <td>0.000</td>\n",
       "      <td>0.081</td>\n",
       "      <td>0.000</td>\n",
       "      <td>0.488</td>\n",
       "      <td>0.244</td>\n",
       "      <td>0.000</td>\n",
       "      <td>5.431</td>\n",
       "      <td>78</td>\n",
       "      <td>239</td>\n",
       "      <td>spam</td>\n",
       "    </tr>\n",
       "    <tr>\n",
       "      <th>38</th>\n",
       "      <td>0.00</td>\n",
       "      <td>0.48</td>\n",
       "      <td>0.48</td>\n",
       "      <td>0.0</td>\n",
       "      <td>0.48</td>\n",
       "      <td>0.00</td>\n",
       "      <td>0.00</td>\n",
       "      <td>0.00</td>\n",
       "      <td>0.00</td>\n",
       "      <td>0.00</td>\n",
       "      <td>...</td>\n",
       "      <td>0.000</td>\n",
       "      <td>0.080</td>\n",
       "      <td>0.000</td>\n",
       "      <td>0.963</td>\n",
       "      <td>0.000</td>\n",
       "      <td>0.000</td>\n",
       "      <td>3.100</td>\n",
       "      <td>61</td>\n",
       "      <td>186</td>\n",
       "      <td>spam</td>\n",
       "    </tr>\n",
       "    <tr>\n",
       "      <th>39</th>\n",
       "      <td>0.00</td>\n",
       "      <td>0.41</td>\n",
       "      <td>1.66</td>\n",
       "      <td>0.0</td>\n",
       "      <td>0.41</td>\n",
       "      <td>0.00</td>\n",
       "      <td>0.00</td>\n",
       "      <td>0.00</td>\n",
       "      <td>0.00</td>\n",
       "      <td>0.00</td>\n",
       "      <td>...</td>\n",
       "      <td>0.000</td>\n",
       "      <td>0.068</td>\n",
       "      <td>0.000</td>\n",
       "      <td>0.750</td>\n",
       "      <td>0.000</td>\n",
       "      <td>0.000</td>\n",
       "      <td>3.851</td>\n",
       "      <td>121</td>\n",
       "      <td>285</td>\n",
       "      <td>spam</td>\n",
       "    </tr>\n",
       "    <tr>\n",
       "      <th>40</th>\n",
       "      <td>0.30</td>\n",
       "      <td>0.00</td>\n",
       "      <td>0.00</td>\n",
       "      <td>0.0</td>\n",
       "      <td>0.61</td>\n",
       "      <td>0.92</td>\n",
       "      <td>0.00</td>\n",
       "      <td>2.45</td>\n",
       "      <td>0.00</td>\n",
       "      <td>0.00</td>\n",
       "      <td>...</td>\n",
       "      <td>0.000</td>\n",
       "      <td>0.051</td>\n",
       "      <td>0.000</td>\n",
       "      <td>0.207</td>\n",
       "      <td>0.207</td>\n",
       "      <td>0.000</td>\n",
       "      <td>2.132</td>\n",
       "      <td>30</td>\n",
       "      <td>226</td>\n",
       "      <td>spam</td>\n",
       "    </tr>\n",
       "    <tr>\n",
       "      <th>41</th>\n",
       "      <td>0.00</td>\n",
       "      <td>0.00</td>\n",
       "      <td>0.00</td>\n",
       "      <td>0.0</td>\n",
       "      <td>2.94</td>\n",
       "      <td>0.00</td>\n",
       "      <td>0.00</td>\n",
       "      <td>0.00</td>\n",
       "      <td>0.00</td>\n",
       "      <td>0.00</td>\n",
       "      <td>...</td>\n",
       "      <td>0.335</td>\n",
       "      <td>0.335</td>\n",
       "      <td>0.000</td>\n",
       "      <td>0.671</td>\n",
       "      <td>0.000</td>\n",
       "      <td>0.000</td>\n",
       "      <td>4.000</td>\n",
       "      <td>12</td>\n",
       "      <td>28</td>\n",
       "      <td>spam</td>\n",
       "    </tr>\n",
       "    <tr>\n",
       "      <th>42</th>\n",
       "      <td>0.00</td>\n",
       "      <td>0.00</td>\n",
       "      <td>0.00</td>\n",
       "      <td>0.0</td>\n",
       "      <td>2.94</td>\n",
       "      <td>0.00</td>\n",
       "      <td>0.00</td>\n",
       "      <td>0.00</td>\n",
       "      <td>0.00</td>\n",
       "      <td>0.00</td>\n",
       "      <td>...</td>\n",
       "      <td>0.355</td>\n",
       "      <td>0.355</td>\n",
       "      <td>0.000</td>\n",
       "      <td>0.711</td>\n",
       "      <td>0.000</td>\n",
       "      <td>0.000</td>\n",
       "      <td>4.000</td>\n",
       "      <td>12</td>\n",
       "      <td>28</td>\n",
       "      <td>spam</td>\n",
       "    </tr>\n",
       "    <tr>\n",
       "      <th>43</th>\n",
       "      <td>0.00</td>\n",
       "      <td>0.00</td>\n",
       "      <td>0.55</td>\n",
       "      <td>0.0</td>\n",
       "      <td>1.11</td>\n",
       "      <td>0.00</td>\n",
       "      <td>0.18</td>\n",
       "      <td>0.00</td>\n",
       "      <td>0.00</td>\n",
       "      <td>0.00</td>\n",
       "      <td>...</td>\n",
       "      <td>0.000</td>\n",
       "      <td>0.182</td>\n",
       "      <td>0.000</td>\n",
       "      <td>0.426</td>\n",
       "      <td>0.000</td>\n",
       "      <td>0.000</td>\n",
       "      <td>1.283</td>\n",
       "      <td>4</td>\n",
       "      <td>68</td>\n",
       "      <td>spam</td>\n",
       "    </tr>\n",
       "    <tr>\n",
       "      <th>44</th>\n",
       "      <td>0.00</td>\n",
       "      <td>0.00</td>\n",
       "      <td>0.00</td>\n",
       "      <td>0.0</td>\n",
       "      <td>0.52</td>\n",
       "      <td>0.00</td>\n",
       "      <td>0.26</td>\n",
       "      <td>0.52</td>\n",
       "      <td>0.00</td>\n",
       "      <td>0.26</td>\n",
       "      <td>...</td>\n",
       "      <td>0.000</td>\n",
       "      <td>0.073</td>\n",
       "      <td>0.000</td>\n",
       "      <td>0.813</td>\n",
       "      <td>0.036</td>\n",
       "      <td>0.147</td>\n",
       "      <td>2.145</td>\n",
       "      <td>38</td>\n",
       "      <td>339</td>\n",
       "      <td>spam</td>\n",
       "    </tr>\n",
       "    <tr>\n",
       "      <th>45</th>\n",
       "      <td>0.15</td>\n",
       "      <td>0.45</td>\n",
       "      <td>1.05</td>\n",
       "      <td>0.0</td>\n",
       "      <td>0.45</td>\n",
       "      <td>0.00</td>\n",
       "      <td>0.00</td>\n",
       "      <td>1.81</td>\n",
       "      <td>0.60</td>\n",
       "      <td>0.75</td>\n",
       "      <td>...</td>\n",
       "      <td>0.000</td>\n",
       "      <td>0.250</td>\n",
       "      <td>0.000</td>\n",
       "      <td>1.318</td>\n",
       "      <td>0.068</td>\n",
       "      <td>0.000</td>\n",
       "      <td>5.301</td>\n",
       "      <td>130</td>\n",
       "      <td>774</td>\n",
       "      <td>spam</td>\n",
       "    </tr>\n",
       "    <tr>\n",
       "      <th>46</th>\n",
       "      <td>0.18</td>\n",
       "      <td>0.00</td>\n",
       "      <td>0.18</td>\n",
       "      <td>0.0</td>\n",
       "      <td>1.57</td>\n",
       "      <td>0.36</td>\n",
       "      <td>0.06</td>\n",
       "      <td>0.06</td>\n",
       "      <td>0.06</td>\n",
       "      <td>0.12</td>\n",
       "      <td>...</td>\n",
       "      <td>0.010</td>\n",
       "      <td>0.052</td>\n",
       "      <td>0.000</td>\n",
       "      <td>0.010</td>\n",
       "      <td>0.167</td>\n",
       "      <td>0.000</td>\n",
       "      <td>1.733</td>\n",
       "      <td>12</td>\n",
       "      <td>442</td>\n",
       "      <td>spam</td>\n",
       "    </tr>\n",
       "    <tr>\n",
       "      <th>47</th>\n",
       "      <td>0.49</td>\n",
       "      <td>0.00</td>\n",
       "      <td>0.99</td>\n",
       "      <td>0.0</td>\n",
       "      <td>0.00</td>\n",
       "      <td>0.99</td>\n",
       "      <td>0.00</td>\n",
       "      <td>0.00</td>\n",
       "      <td>0.00</td>\n",
       "      <td>0.99</td>\n",
       "      <td>...</td>\n",
       "      <td>0.000</td>\n",
       "      <td>0.340</td>\n",
       "      <td>0.000</td>\n",
       "      <td>0.170</td>\n",
       "      <td>0.000</td>\n",
       "      <td>0.000</td>\n",
       "      <td>1.468</td>\n",
       "      <td>8</td>\n",
       "      <td>94</td>\n",
       "      <td>spam</td>\n",
       "    </tr>\n",
       "    <tr>\n",
       "      <th>48</th>\n",
       "      <td>0.46</td>\n",
       "      <td>0.30</td>\n",
       "      <td>0.46</td>\n",
       "      <td>0.0</td>\n",
       "      <td>0.05</td>\n",
       "      <td>0.12</td>\n",
       "      <td>0.05</td>\n",
       "      <td>0.28</td>\n",
       "      <td>0.43</td>\n",
       "      <td>0.74</td>\n",
       "      <td>...</td>\n",
       "      <td>0.000</td>\n",
       "      <td>0.065</td>\n",
       "      <td>0.000</td>\n",
       "      <td>0.325</td>\n",
       "      <td>0.756</td>\n",
       "      <td>0.153</td>\n",
       "      <td>5.891</td>\n",
       "      <td>193</td>\n",
       "      <td>3040</td>\n",
       "      <td>spam</td>\n",
       "    </tr>\n",
       "    <tr>\n",
       "      <th>49</th>\n",
       "      <td>0.46</td>\n",
       "      <td>0.46</td>\n",
       "      <td>0.26</td>\n",
       "      <td>0.0</td>\n",
       "      <td>0.00</td>\n",
       "      <td>0.33</td>\n",
       "      <td>0.06</td>\n",
       "      <td>0.33</td>\n",
       "      <td>0.00</td>\n",
       "      <td>1.12</td>\n",
       "      <td>...</td>\n",
       "      <td>0.036</td>\n",
       "      <td>0.084</td>\n",
       "      <td>0.000</td>\n",
       "      <td>0.278</td>\n",
       "      <td>0.230</td>\n",
       "      <td>0.084</td>\n",
       "      <td>3.887</td>\n",
       "      <td>40</td>\n",
       "      <td>898</td>\n",
       "      <td>spam</td>\n",
       "    </tr>\n",
       "  </tbody>\n",
       "</table>\n",
       "<p>50 rows × 58 columns</p>\n",
       "</div>"
      ],
      "text/plain": [
       "    make  address   all  num3d   our  over  remove  internet  order  mail  \\\n",
       "0   0.00     0.64  0.64    0.0  0.32  0.00    0.00      0.00   0.00  0.00   \n",
       "1   0.21     0.28  0.50    0.0  0.14  0.28    0.21      0.07   0.00  0.94   \n",
       "2   0.06     0.00  0.71    0.0  1.23  0.19    0.19      0.12   0.64  0.25   \n",
       "3   0.00     0.00  0.00    0.0  0.63  0.00    0.31      0.63   0.31  0.63   \n",
       "4   0.00     0.00  0.00    0.0  0.63  0.00    0.31      0.63   0.31  0.63   \n",
       "5   0.00     0.00  0.00    0.0  1.85  0.00    0.00      1.85   0.00  0.00   \n",
       "6   0.00     0.00  0.00    0.0  1.92  0.00    0.00      0.00   0.00  0.64   \n",
       "7   0.00     0.00  0.00    0.0  1.88  0.00    0.00      1.88   0.00  0.00   \n",
       "8   0.15     0.00  0.46    0.0  0.61  0.00    0.30      0.00   0.92  0.76   \n",
       "9   0.06     0.12  0.77    0.0  0.19  0.32    0.38      0.00   0.06  0.00   \n",
       "10  0.00     0.00  0.00    0.0  0.00  0.00    0.96      0.00   0.00  1.92   \n",
       "11  0.00     0.00  0.25    0.0  0.38  0.25    0.25      0.00   0.00  0.00   \n",
       "12  0.00     0.69  0.34    0.0  0.34  0.00    0.00      0.00   0.00  0.00   \n",
       "13  0.00     0.00  0.00    0.0  0.90  0.00    0.90      0.00   0.00  0.90   \n",
       "14  0.00     0.00  1.42    0.0  0.71  0.35    0.00      0.35   0.00  0.71   \n",
       "15  0.00     0.42  0.42    0.0  1.27  0.00    0.42      0.00   0.00  1.27   \n",
       "16  0.00     0.00  0.00    0.0  0.94  0.00    0.00      0.00   0.00  0.00   \n",
       "17  0.00     0.00  0.00    0.0  0.00  0.00    0.00      0.00   0.00  0.00   \n",
       "18  0.00     0.00  0.55    0.0  1.11  0.00    0.18      0.00   0.00  0.00   \n",
       "19  0.00     0.63  0.00    0.0  1.59  0.31    0.00      0.00   0.31  0.00   \n",
       "20  0.00     0.00  0.00    0.0  0.00  0.00    0.00      0.00   0.00  0.00   \n",
       "21  0.05     0.07  0.10    0.0  0.76  0.05    0.15      0.02   0.55  0.00   \n",
       "22  0.00     0.00  0.00    0.0  2.94  0.00    0.00      0.00   0.00  0.00   \n",
       "23  0.00     0.00  0.00    0.0  1.16  0.00    0.00      0.00   0.00  0.00   \n",
       "24  0.00     0.00  0.00    0.0  0.00  0.00    0.00      0.00   0.00  0.00   \n",
       "25  0.05     0.07  0.10    0.0  0.76  0.05    0.15      0.02   0.55  0.00   \n",
       "26  0.00     0.00  0.00    0.0  0.00  0.00    0.00      0.00   0.00  0.00   \n",
       "27  0.00     0.00  0.00    0.0  0.00  0.00    1.66      0.00   0.00  0.00   \n",
       "28  0.00     0.00  0.00    0.0  0.00  0.00    0.00      0.00   0.00  0.00   \n",
       "29  0.00     0.00  0.00    0.0  0.65  0.00    0.65      0.00   0.00  0.00   \n",
       "30  1.17     0.00  0.00    0.0  0.00  0.00    0.00      0.00   0.00  0.00   \n",
       "31  0.00     0.00  3.03    0.0  0.00  0.00    0.00      0.00   0.00  0.00   \n",
       "32  0.00     0.00  0.00    0.0  1.89  0.27    0.00      0.00   0.00  0.00   \n",
       "33  0.00     0.00  0.00    0.0  0.00  0.00    0.00      0.00   0.00  0.00   \n",
       "34  0.00     0.68  0.00    0.0  0.00  0.00    0.00      0.00   0.00  0.68   \n",
       "35  0.00     0.00  2.56    0.0  0.00  0.00    0.00      0.00   0.00  0.00   \n",
       "36  0.00     0.00  0.00    0.0  2.94  0.00    0.00      0.00   0.00  0.00   \n",
       "37  0.00     0.00  0.48    0.0  1.46  0.00    0.48      0.00   0.00  0.00   \n",
       "38  0.00     0.48  0.48    0.0  0.48  0.00    0.00      0.00   0.00  0.00   \n",
       "39  0.00     0.41  1.66    0.0  0.41  0.00    0.00      0.00   0.00  0.00   \n",
       "40  0.30     0.00  0.00    0.0  0.61  0.92    0.00      2.45   0.00  0.00   \n",
       "41  0.00     0.00  0.00    0.0  2.94  0.00    0.00      0.00   0.00  0.00   \n",
       "42  0.00     0.00  0.00    0.0  2.94  0.00    0.00      0.00   0.00  0.00   \n",
       "43  0.00     0.00  0.55    0.0  1.11  0.00    0.18      0.00   0.00  0.00   \n",
       "44  0.00     0.00  0.00    0.0  0.52  0.00    0.26      0.52   0.00  0.26   \n",
       "45  0.15     0.45  1.05    0.0  0.45  0.00    0.00      1.81   0.60  0.75   \n",
       "46  0.18     0.00  0.18    0.0  1.57  0.36    0.06      0.06   0.06  0.12   \n",
       "47  0.49     0.00  0.99    0.0  0.00  0.99    0.00      0.00   0.00  0.99   \n",
       "48  0.46     0.30  0.46    0.0  0.05  0.12    0.05      0.28   0.43  0.74   \n",
       "49  0.46     0.46  0.26    0.0  0.00  0.33    0.06      0.33   0.00  1.12   \n",
       "\n",
       "    ...  charSemicolon  charRoundbracket  charSquarebracket  charExclamation  \\\n",
       "0   ...          0.000             0.000              0.000            0.778   \n",
       "1   ...          0.000             0.132              0.000            0.372   \n",
       "2   ...          0.010             0.143              0.000            0.276   \n",
       "3   ...          0.000             0.137              0.000            0.137   \n",
       "4   ...          0.000             0.135              0.000            0.135   \n",
       "5   ...          0.000             0.223              0.000            0.000   \n",
       "6   ...          0.000             0.054              0.000            0.164   \n",
       "7   ...          0.000             0.206              0.000            0.000   \n",
       "8   ...          0.000             0.271              0.000            0.181   \n",
       "9   ...          0.040             0.030              0.000            0.244   \n",
       "10  ...          0.000             0.000              0.000            0.462   \n",
       "11  ...          0.022             0.044              0.000            0.663   \n",
       "12  ...          0.000             0.056              0.000            0.786   \n",
       "13  ...          0.000             0.000              0.000            0.000   \n",
       "14  ...          0.000             0.102              0.000            0.357   \n",
       "15  ...          0.000             0.063              0.000            0.572   \n",
       "16  ...          0.000             0.000              0.000            0.428   \n",
       "17  ...          0.000             0.000              0.000            1.975   \n",
       "18  ...          0.000             0.182              0.000            0.455   \n",
       "19  ...          0.000             0.275              0.000            0.055   \n",
       "20  ...          0.000             0.729              0.000            0.729   \n",
       "21  ...          0.042             0.101              0.016            0.250   \n",
       "22  ...          0.404             0.404              0.000            0.809   \n",
       "23  ...          0.000             0.133              0.000            0.667   \n",
       "24  ...          0.000             0.196              0.000            0.392   \n",
       "25  ...          0.042             0.101              0.016            0.250   \n",
       "26  ...          0.000             0.196              0.000            0.392   \n",
       "27  ...          0.000             0.000              0.000            0.368   \n",
       "28  ...          0.000             0.352              0.000            0.352   \n",
       "29  ...          0.000             0.459              0.000            0.091   \n",
       "30  ...          0.000             0.000              0.000            0.886   \n",
       "31  ...          0.000             0.352              0.000            2.112   \n",
       "32  ...          0.000             0.045              0.000            0.000   \n",
       "33  ...          0.000             0.000              0.000            0.000   \n",
       "34  ...          0.000             0.000              0.185            0.000   \n",
       "35  ...          0.000             0.308              0.000            1.543   \n",
       "36  ...          0.436             0.436              0.000            0.873   \n",
       "37  ...          0.000             0.081              0.000            0.488   \n",
       "38  ...          0.000             0.080              0.000            0.963   \n",
       "39  ...          0.000             0.068              0.000            0.750   \n",
       "40  ...          0.000             0.051              0.000            0.207   \n",
       "41  ...          0.335             0.335              0.000            0.671   \n",
       "42  ...          0.355             0.355              0.000            0.711   \n",
       "43  ...          0.000             0.182              0.000            0.426   \n",
       "44  ...          0.000             0.073              0.000            0.813   \n",
       "45  ...          0.000             0.250              0.000            1.318   \n",
       "46  ...          0.010             0.052              0.000            0.010   \n",
       "47  ...          0.000             0.340              0.000            0.170   \n",
       "48  ...          0.000             0.065              0.000            0.325   \n",
       "49  ...          0.036             0.084              0.000            0.278   \n",
       "\n",
       "    charDollar  charHash  capitalAve  capitalLong  capitalTotal  type  \n",
       "0        0.000     0.000       3.756           61           278  spam  \n",
       "1        0.180     0.048       5.114          101          1028  spam  \n",
       "2        0.184     0.010       9.821          485          2259  spam  \n",
       "3        0.000     0.000       3.537           40           191  spam  \n",
       "4        0.000     0.000       3.537           40           191  spam  \n",
       "5        0.000     0.000       3.000           15            54  spam  \n",
       "6        0.054     0.000       1.671            4           112  spam  \n",
       "7        0.000     0.000       2.450           11            49  spam  \n",
       "8        0.203     0.022       9.744          445          1257  spam  \n",
       "9        0.081     0.000       1.729           43           749  spam  \n",
       "10       0.000     0.000       1.312            6            21  spam  \n",
       "11       0.000     0.000       1.243           11           184  spam  \n",
       "12       0.000     0.000       3.728           61           261  spam  \n",
       "13       0.000     0.000       2.083            7            25  spam  \n",
       "14       0.000     0.000       1.971           24           205  spam  \n",
       "15       0.063     0.000       5.659           55           249  spam  \n",
       "16       0.000     0.000       4.652           31           107  spam  \n",
       "17       0.370     0.000      35.461           95           461  spam  \n",
       "18       0.000     0.000       1.320            4            70  spam  \n",
       "19       0.496     0.000       3.509           91           186  spam  \n",
       "20       0.000     0.000       3.833            9            23  spam  \n",
       "21       0.046     0.059       2.569           66          2259  spam  \n",
       "22       0.000     0.000       4.857           12            34  spam  \n",
       "23       0.000     0.000       1.131            5            69  spam  \n",
       "24       0.196     0.000       5.466           22            82  spam  \n",
       "25       0.046     0.059       2.565           66          2258  spam  \n",
       "26       0.196     0.000       5.466           22            82  spam  \n",
       "27       0.000     0.000       2.611           12            47  spam  \n",
       "28       0.000     0.000       4.000           11            36  spam  \n",
       "29       0.000     0.000       2.687           66           129  spam  \n",
       "30       0.000     0.000       1.966           10            59  spam  \n",
       "31       0.000     0.000       3.909           11            43  spam  \n",
       "32       0.091     0.000       1.390           11            89  spam  \n",
       "33       0.302     0.000       1.700            5            17  spam  \n",
       "34       0.000     0.000       3.826           30           264  spam  \n",
       "35       0.000     0.000       2.777            6            25  spam  \n",
       "36       0.000     0.000       4.142           12            29  spam  \n",
       "37       0.244     0.000       5.431           78           239  spam  \n",
       "38       0.000     0.000       3.100           61           186  spam  \n",
       "39       0.000     0.000       3.851          121           285  spam  \n",
       "40       0.207     0.000       2.132           30           226  spam  \n",
       "41       0.000     0.000       4.000           12            28  spam  \n",
       "42       0.000     0.000       4.000           12            28  spam  \n",
       "43       0.000     0.000       1.283            4            68  spam  \n",
       "44       0.036     0.147       2.145           38           339  spam  \n",
       "45       0.068     0.000       5.301          130           774  spam  \n",
       "46       0.167     0.000       1.733           12           442  spam  \n",
       "47       0.000     0.000       1.468            8            94  spam  \n",
       "48       0.756     0.153       5.891          193          3040  spam  \n",
       "49       0.230     0.084       3.887           40           898  spam  \n",
       "\n",
       "[50 rows x 58 columns]"
      ]
     },
     "execution_count": 18,
     "metadata": {},
     "output_type": "execute_result"
    }
   ],
   "source": [
    "df.head(50)"
   ]
  },
  {
   "cell_type": "code",
   "execution_count": 11,
   "id": "69f30ed0-db6d-4659-b63d-c0dbda1b37ca",
   "metadata": {},
   "outputs": [],
   "source": [
    "import matplotlib.pyplot as plt"
   ]
  },
  {
   "cell_type": "code",
   "execution_count": 7,
   "id": "c2b09375-caf0-4433-94db-c1872ef52e05",
   "metadata": {},
   "outputs": [
    {
     "name": "stdout",
     "output_type": "stream",
     "text": [
      "Requirement already satisfied: matplot in c:\\programdata\\miniconda3\\envs\\pythoncybr520\\lib\\site-packages (0.1.9)\n",
      "Requirement already satisfied: pyloco>=0.0.134 in c:\\programdata\\miniconda3\\envs\\pythoncybr520\\lib\\site-packages (from matplot) (0.0.139)\n",
      "Requirement already satisfied: matplotlib>=3.1.1 in c:\\programdata\\miniconda3\\envs\\pythoncybr520\\lib\\site-packages (from matplot) (3.9.2)\n",
      "Requirement already satisfied: contourpy>=1.0.1 in c:\\programdata\\miniconda3\\envs\\pythoncybr520\\lib\\site-packages (from matplotlib>=3.1.1->matplot) (1.3.0)\n",
      "Requirement already satisfied: cycler>=0.10 in c:\\programdata\\miniconda3\\envs\\pythoncybr520\\lib\\site-packages (from matplotlib>=3.1.1->matplot) (0.12.1)\n",
      "Requirement already satisfied: fonttools>=4.22.0 in c:\\programdata\\miniconda3\\envs\\pythoncybr520\\lib\\site-packages (from matplotlib>=3.1.1->matplot) (4.54.1)\n",
      "Requirement already satisfied: kiwisolver>=1.3.1 in c:\\programdata\\miniconda3\\envs\\pythoncybr520\\lib\\site-packages (from matplotlib>=3.1.1->matplot) (1.4.7)\n",
      "Requirement already satisfied: numpy>=1.23 in c:\\users\\dfeig\\appdata\\roaming\\python\\python311\\site-packages (from matplotlib>=3.1.1->matplot) (2.1.3)\n",
      "Requirement already satisfied: packaging>=20.0 in c:\\programdata\\miniconda3\\envs\\pythoncybr520\\lib\\site-packages (from matplotlib>=3.1.1->matplot) (24.1)\n",
      "Requirement already satisfied: pillow>=8 in c:\\programdata\\miniconda3\\envs\\pythoncybr520\\lib\\site-packages (from matplotlib>=3.1.1->matplot) (11.0.0)\n",
      "Requirement already satisfied: pyparsing>=2.3.1 in c:\\programdata\\miniconda3\\envs\\pythoncybr520\\lib\\site-packages (from matplotlib>=3.1.1->matplot) (3.2.0)\n",
      "Requirement already satisfied: python-dateutil>=2.7 in c:\\programdata\\miniconda3\\envs\\pythoncybr520\\lib\\site-packages (from matplotlib>=3.1.1->matplot) (2.9.0.post0)\n",
      "Requirement already satisfied: ushlex in c:\\programdata\\miniconda3\\envs\\pythoncybr520\\lib\\site-packages (from pyloco>=0.0.134->matplot) (0.99.1)\n",
      "Requirement already satisfied: websocket-client in c:\\programdata\\miniconda3\\envs\\pythoncybr520\\lib\\site-packages (from pyloco>=0.0.134->matplot) (1.8.0)\n",
      "Requirement already satisfied: twine in c:\\programdata\\miniconda3\\envs\\pythoncybr520\\lib\\site-packages (from pyloco>=0.0.134->matplot) (5.1.1)\n",
      "Requirement already satisfied: typing in c:\\programdata\\miniconda3\\envs\\pythoncybr520\\lib\\site-packages (from pyloco>=0.0.134->matplot) (3.7.4.3)\n",
      "Requirement already satisfied: SimpleWebSocketServer in c:\\programdata\\miniconda3\\envs\\pythoncybr520\\lib\\site-packages (from pyloco>=0.0.134->matplot) (0.1.2)\n",
      "Requirement already satisfied: six>=1.5 in c:\\programdata\\miniconda3\\envs\\pythoncybr520\\lib\\site-packages (from python-dateutil>=2.7->matplotlib>=3.1.1->matplot) (1.16.0)\n",
      "Requirement already satisfied: pkginfo>=1.8.1 in c:\\programdata\\miniconda3\\envs\\pythoncybr520\\lib\\site-packages (from twine->pyloco>=0.0.134->matplot) (1.10.0)\n",
      "Requirement already satisfied: readme-renderer>=35.0 in c:\\programdata\\miniconda3\\envs\\pythoncybr520\\lib\\site-packages (from twine->pyloco>=0.0.134->matplot) (44.0)\n",
      "Requirement already satisfied: requests>=2.20 in c:\\programdata\\miniconda3\\envs\\pythoncybr520\\lib\\site-packages (from twine->pyloco>=0.0.134->matplot) (2.32.3)\n",
      "Requirement already satisfied: requests-toolbelt!=0.9.0,>=0.8.0 in c:\\programdata\\miniconda3\\envs\\pythoncybr520\\lib\\site-packages (from twine->pyloco>=0.0.134->matplot) (1.0.0)\n",
      "Requirement already satisfied: urllib3>=1.26.0 in c:\\programdata\\miniconda3\\envs\\pythoncybr520\\lib\\site-packages (from twine->pyloco>=0.0.134->matplot) (2.2.3)\n",
      "Requirement already satisfied: importlib-metadata>=3.6 in c:\\programdata\\miniconda3\\envs\\pythoncybr520\\lib\\site-packages (from twine->pyloco>=0.0.134->matplot) (8.5.0)\n",
      "Requirement already satisfied: keyring>=15.1 in c:\\programdata\\miniconda3\\envs\\pythoncybr520\\lib\\site-packages (from twine->pyloco>=0.0.134->matplot) (25.5.0)\n",
      "Requirement already satisfied: rfc3986>=1.4.0 in c:\\programdata\\miniconda3\\envs\\pythoncybr520\\lib\\site-packages (from twine->pyloco>=0.0.134->matplot) (2.0.0)\n",
      "Requirement already satisfied: rich>=12.0.0 in c:\\programdata\\miniconda3\\envs\\pythoncybr520\\lib\\site-packages (from twine->pyloco>=0.0.134->matplot) (13.9.4)\n",
      "Requirement already satisfied: zipp>=3.20 in c:\\programdata\\miniconda3\\envs\\pythoncybr520\\lib\\site-packages (from importlib-metadata>=3.6->twine->pyloco>=0.0.134->matplot) (3.20.2)\n",
      "Requirement already satisfied: jaraco.classes in c:\\programdata\\miniconda3\\envs\\pythoncybr520\\lib\\site-packages (from keyring>=15.1->twine->pyloco>=0.0.134->matplot) (3.4.0)\n",
      "Requirement already satisfied: jaraco.functools in c:\\programdata\\miniconda3\\envs\\pythoncybr520\\lib\\site-packages (from keyring>=15.1->twine->pyloco>=0.0.134->matplot) (4.1.0)\n",
      "Requirement already satisfied: jaraco.context in c:\\programdata\\miniconda3\\envs\\pythoncybr520\\lib\\site-packages (from keyring>=15.1->twine->pyloco>=0.0.134->matplot) (6.0.1)\n",
      "Requirement already satisfied: pywin32-ctypes>=0.2.0 in c:\\programdata\\miniconda3\\envs\\pythoncybr520\\lib\\site-packages (from keyring>=15.1->twine->pyloco>=0.0.134->matplot) (0.2.3)\n",
      "Requirement already satisfied: nh3>=0.2.14 in c:\\programdata\\miniconda3\\envs\\pythoncybr520\\lib\\site-packages (from readme-renderer>=35.0->twine->pyloco>=0.0.134->matplot) (0.2.18)\n",
      "Requirement already satisfied: docutils>=0.21.2 in c:\\programdata\\miniconda3\\envs\\pythoncybr520\\lib\\site-packages (from readme-renderer>=35.0->twine->pyloco>=0.0.134->matplot) (0.21.2)\n",
      "Requirement already satisfied: Pygments>=2.5.1 in c:\\programdata\\miniconda3\\envs\\pythoncybr520\\lib\\site-packages (from readme-renderer>=35.0->twine->pyloco>=0.0.134->matplot) (2.15.1)\n",
      "Requirement already satisfied: charset-normalizer<4,>=2 in c:\\programdata\\miniconda3\\envs\\pythoncybr520\\lib\\site-packages (from requests>=2.20->twine->pyloco>=0.0.134->matplot) (3.3.2)\n",
      "Requirement already satisfied: idna<4,>=2.5 in c:\\programdata\\miniconda3\\envs\\pythoncybr520\\lib\\site-packages (from requests>=2.20->twine->pyloco>=0.0.134->matplot) (3.7)\n",
      "Requirement already satisfied: certifi>=2017.4.17 in c:\\programdata\\miniconda3\\envs\\pythoncybr520\\lib\\site-packages (from requests>=2.20->twine->pyloco>=0.0.134->matplot) (2024.8.30)\n",
      "Requirement already satisfied: markdown-it-py>=2.2.0 in c:\\programdata\\miniconda3\\envs\\pythoncybr520\\lib\\site-packages (from rich>=12.0.0->twine->pyloco>=0.0.134->matplot) (3.0.0)\n",
      "Requirement already satisfied: mdurl~=0.1 in c:\\programdata\\miniconda3\\envs\\pythoncybr520\\lib\\site-packages (from markdown-it-py>=2.2.0->rich>=12.0.0->twine->pyloco>=0.0.134->matplot) (0.1.2)\n",
      "Requirement already satisfied: more-itertools in c:\\programdata\\miniconda3\\envs\\pythoncybr520\\lib\\site-packages (from jaraco.classes->keyring>=15.1->twine->pyloco>=0.0.134->matplot) (10.5.0)\n",
      "Requirement already satisfied: backports.tarfile in c:\\programdata\\miniconda3\\envs\\pythoncybr520\\lib\\site-packages (from jaraco.context->keyring>=15.1->twine->pyloco>=0.0.134->matplot) (1.2.0)\n"
     ]
    }
   ],
   "source": [
    "!pip install matplot"
   ]
  },
  {
   "cell_type": "code",
   "execution_count": 28,
   "id": "feaa9e34-d8e3-4ea5-8f47-14aec77b6ff9",
   "metadata": {},
   "outputs": [
    {
     "data": {
      "text/plain": [
       "<function matplotlib.pyplot.show(close=None, block=None)>"
      ]
     },
     "execution_count": 28,
     "metadata": {},
     "output_type": "execute_result"
    },
    {
     "data": {
      "image/png": "[encoded data removed]",
      "text/plain": [
       "<Figure size 640x480 with 1 Axes>"
      ]
     },
     "metadata": {},
     "output_type": "display_data"
    }
   ],
   "source": [
    "df = pd.read_csv('Spambase.csv')\n",
    "# range was large, so I shortened the index. For the whole range, remove the data_range and replace with just df (e.g. df.capitalLong)\n",
    "start, end = 0,50\n",
    "data_range=df[start:end]\n",
    "plt.plot(data_range.capitalLong, label=\"capitalLong\")\n",
    "\n",
    "plt.xlabel(\"Index\")\n",
    "plt.ylabel(\"capitalLong\")\n",
    "plt.title(\"Line chart for capitalLong\")\n",
    "\n",
    "plt.show"
   ]
  },
  {
   "cell_type": "markdown",
   "id": "92e9d919-2091-41d7-a608-6d282f35357b",
   "metadata": {},
   "source": [
    "# 2. Generate a bar chart to show the frequency of 'type' (spam and nonspam) in the dataset.\n"
   ]
  },
  {
   "cell_type": "code",
   "execution_count": 140,
   "id": "8288983c-e16b-4b12-a644-38b4654361f5",
   "metadata": {},
   "outputs": [
    {
     "data": {
      "image/png": "[encoded data removed]",
      "text/plain": [
       "<Figure size 640x480 with 1 Axes>"
      ]
     },
     "metadata": {},
     "output_type": "display_data"
    }
   ],
   "source": [
    "type_counts = df['type'].value_counts()\n",
    "\n",
    "#Creating plot\n",
    "plt.bar(type_counts.index, type_counts.values, color=['red', 'blue'])\n",
    "\n",
    "#Customizing the chart\n",
    "plt.xlabel('Type')\n",
    "plt.ylabel('Count')\n",
    "plt.title('Count of Each Type')\n",
    "\n",
    "plt.show()\n",
    "\n"
   ]
  },
  {
   "cell_type": "markdown",
   "id": "e9432eca-e5a3-4232-8696-f05af4421fd1",
   "metadata": {},
   "source": [
    "# 3. Create a scatter plot to explore the relationship between 'num3d' and 'num000'.\n"
   ]
  },
  {
   "cell_type": "code",
   "execution_count": 139,
   "id": "a614ca09-a360-47fb-9223-3263a8f6bb03",
   "metadata": {},
   "outputs": [
    {
     "data": {
      "image/png": "[encoded data removed]",
      "text/plain": [
       "<Figure size 640x480 with 1 Axes>"
      ]
     },
     "metadata": {},
     "output_type": "display_data"
    }
   ],
   "source": [
    "#Creating scatter plot\n",
    "plt.scatter(df['num3d'], df['num000'], alpha=0.6, color='lightblue')\n",
    "\n",
    "#Customizing the chart\n",
    "plt.xlabel('num3d')\n",
    "plt.ylabel('num000')\n",
    "plt.title('Scatter Plot of num3d vs. num000')\n",
    "\n",
    "plt.show()"
   ]
  },
  {
   "cell_type": "markdown",
   "id": "d8d5a324-b961-4bc8-9de2-69d505dc3ab1",
   "metadata": {},
   "source": [
    "# 4. Visualize the distribution of 'money' using a histogram.\n"
   ]
  },
  {
   "cell_type": "code",
   "execution_count": 138,
   "id": "082a4d2c-2611-4b47-a082-691eb3910537",
   "metadata": {},
   "outputs": [
    {
     "data": {
      "image/png": "[encoded data removed]",
      "text/plain": [
       "<Figure size 640x480 with 1 Axes>"
      ]
     },
     "metadata": {},
     "output_type": "display_data"
    }
   ],
   "source": [
    "#Creating histogram\n",
    "plt.hist(df['money'], bins=20, color='lightgreen', edgecolor='black', alpha=0.7)\n",
    "\n",
    "#Customizing the chart\n",
    "plt.xlabel('Money')\n",
    "plt.ylabel('Frequency')\n",
    "plt.title('Distribution of Money')\n",
    "plt.axvline(x=df.money.mean(), linewidth=3, color = 'b') \n",
    "\n",
    "plt.show()"
   ]
  },
  {
   "cell_type": "markdown",
   "id": "39ef0c4f-3532-45c2-914d-cb4dd0ad7703",
   "metadata": {},
   "source": [
    "# 5. Create a pie chart to represent the proportion of spam and nonspam emails in the dataset.\n"
   ]
  },
  {
   "cell_type": "code",
   "execution_count": 134,
   "id": "f87fb50a-4446-41a1-b74d-8564036ca226",
   "metadata": {},
   "outputs": [
    {
     "data": {
      "image/png": "[encoded data removed]",
      "text/plain": [
       "<Figure size 640x480 with 1 Axes>"
      ]
     },
     "metadata": {},
     "output_type": "display_data"
    }
   ],
   "source": [
    "# Count the occurrences of each type (spam and nonspam)\n",
    "type_counts = df['type'].value_counts()\n",
    "\n",
    "#Creating chart\n",
    "plt.pie(type_counts, labels=type_counts.index, autopct='%1.1f%%', startangle=140, colors=['lightcoral', 'skyblue'])\n",
    "\n",
    "#Editing chart\n",
    "plt.title('Proportion of Spam and Nonspam Emails')\n",
    "plt.axis('equal')  # Ensures the pie chart is circular\n",
    "\n",
    "plt.show()"
   ]
  },
  {
   "cell_type": "markdown",
   "id": "395d69cb-8044-4d7c-8d7b-d8523b88c099",
   "metadata": {},
   "source": [
    "# 6. Generate a table chart to display the summary statistics for the 'capitalAve' feature."
   ]
  },
  {
   "cell_type": "code",
   "execution_count": 135,
   "id": "21b73ab2-5e68-4d21-871b-f56f0c827693",
   "metadata": {},
   "outputs": [
    {
     "data": {
      "text/plain": [
       "count    4601.000000\n",
       "mean        5.191515\n",
       "std        31.729449\n",
       "min         1.000000\n",
       "25%         1.588000\n",
       "50%         2.276000\n",
       "75%         3.706000\n",
       "max      1102.500000\n",
       "Name: capitalAve, dtype: float64"
      ]
     },
     "execution_count": 135,
     "metadata": {},
     "output_type": "execute_result"
    }
   ],
   "source": [
    "# 6. Generate a table chart to display the summary statistics for the 'capitalAve' feature.\n",
    "df['capitalAve'].describe() # or just df.capitalAve.describe() to make it easier/cleaner"
   ]
  },
  {
   "cell_type": "code",
   "execution_count": 136,
   "id": "eab460f2-0472-470f-b504-c7e170eb142b",
   "metadata": {},
   "outputs": [
    {
     "data": {
      "image/png": "[encoded data removed]",
      "text/plain": [
       "<Figure size 1400x300 with 1 Axes>"
      ]
     },
     "metadata": {},
     "output_type": "display_data"
    }
   ],
   "source": [
    "# Calculate summary statistics for 'capitalAve' within a chart\n",
    "summary_stats = df['capitalAve'].describe()\n",
    "\n",
    "#creating plot\n",
    "fig, ax = plt.subplots(figsize=(14, 3))\n",
    "ax.table(cellText=summary_stats.values.reshape(1, -1),\n",
    "         colLabels=summary_stats.index,\n",
    "         cellLoc='center',\n",
    "         loc='center')\n",
    "\n",
    "#editing chart\n",
    "ax.axis('off')  # Turn off the axis\n",
    "plt.title('Summary Statistics for capitalAve')\n",
    "\n",
    "plt.show()"
   ]
  },
  {
   "cell_type": "markdown",
   "id": "254ba83f-0842-4eda-acb2-a87832ff0be7",
   "metadata": {},
   "source": [
    "# 7. Calculate the mean, median, and standard deviation of the 'our' feature."
   ]
  },
  {
   "cell_type": "code",
   "execution_count": 137,
   "id": "e34636d5-b05c-4066-b4c4-ce0581ae0afb",
   "metadata": {},
   "outputs": [
    {
     "data": {
      "text/plain": [
       "np.float64(0.312223429689198)"
      ]
     },
     "execution_count": 137,
     "metadata": {},
     "output_type": "execute_result"
    }
   ],
   "source": [
    "# 7. Calculate the mean, median, and standard deviation of the 'our' feature.\n",
    "df.our.mean() #I am being lazy and don't feel like doing it the fancier way lol"
   ]
  },
  {
   "cell_type": "code",
   "execution_count": 80,
   "id": "469e143c-3adb-45bd-8b5d-4690a4a3a12f",
   "metadata": {},
   "outputs": [
    {
     "data": {
      "text/plain": [
       "np.float64(0.0)"
      ]
     },
     "execution_count": 80,
     "metadata": {},
     "output_type": "execute_result"
    }
   ],
   "source": [
    "df.our.median()"
   ]
  },
  {
   "cell_type": "code",
   "execution_count": 81,
   "id": "ffd1412f-ea41-4cc0-88eb-5e48a7716cbb",
   "metadata": {},
   "outputs": [
    {
     "data": {
      "text/plain": [
       "np.float64(0.672512769284666)"
      ]
     },
     "execution_count": 81,
     "metadata": {},
     "output_type": "execute_result"
    }
   ],
   "source": [
    "df.our.std()"
   ]
  },
  {
   "cell_type": "code",
   "execution_count": 108,
   "id": "5ae77781-a585-4b35-a323-878b53a2cf04",
   "metadata": {},
   "outputs": [
    {
     "name": "stdout",
     "output_type": "stream",
     "text": [
      "Mean = 0.312223429689198, Median = 0.0, Standard Deviation = 0.672512769284666\n"
     ]
    }
   ],
   "source": [
    "#Nvm, I didn't wanna lose points lol\n",
    "mean = df.our.mean()\n",
    "median = df.our.median()\n",
    "std = df.our.std()\n",
    "\n",
    "print(f\"Mean = {mean}, Median = {median}, Standard Deviation = {std}\")"
   ]
  },
  {
   "cell_type": "markdown",
   "id": "7ee45258-3c0d-40a5-8462-6d07032befbb",
   "metadata": {},
   "source": [
    "# 8. Determine the minimum and maximum values of 'hp'."
   ]
  },
  {
   "cell_type": "code",
   "execution_count": 110,
   "id": "6a79b2f2-21b5-45f9-9243-13463cb8980c",
   "metadata": {},
   "outputs": [],
   "source": [
    "# 8. Determine the minimum and maximum values of 'hp'.\n",
    "min = df.hp.min()"
   ]
  },
  {
   "cell_type": "code",
   "execution_count": 109,
   "id": "e91945a8-85d9-4ac8-9d27-56fd3055c857",
   "metadata": {},
   "outputs": [],
   "source": [
    "max = df.hp.max()"
   ]
  },
  {
   "cell_type": "code",
   "execution_count": 111,
   "id": "aad5ebc3-f119-4c02-a253-faf3368c57f0",
   "metadata": {},
   "outputs": [
    {
     "name": "stdout",
     "output_type": "stream",
     "text": [
      "Min = 0.0, Max = 20.83\n"
     ]
    }
   ],
   "source": [
    "print(f\"Min = {min}, Max = {max}\")"
   ]
  },
  {
   "cell_type": "markdown",
   "id": "a10fb7d5-830c-4e51-b632-4da7c082b10d",
   "metadata": {},
   "source": [
    "# 9. Calculate the 25th, 50th, and 75th percentiles for 'telnet'."
   ]
  },
  {
   "cell_type": "code",
   "execution_count": 89,
   "id": "5ce486ca-5dec-4735-87a7-0ad8670ff4cb",
   "metadata": {},
   "outputs": [
    {
     "name": "stdout",
     "output_type": "stream",
     "text": [
      "0.0\n"
     ]
    }
   ],
   "source": [
    "# 9. Calculate the 25th, 50th, and 75th percentiles for 'telnet'.\n",
    "import numpy as np\n",
    "telnet = df[\"telnet\"]\n",
    "percentile = np.percentile(telnet,  25,)\n",
    "print(percentile)"
   ]
  },
  {
   "cell_type": "code",
   "execution_count": 90,
   "id": "7be9d7d0-7e7e-4492-9b91-36f9a1171d7a",
   "metadata": {},
   "outputs": [
    {
     "name": "stdout",
     "output_type": "stream",
     "text": [
      "0.0\n"
     ]
    }
   ],
   "source": [
    "import numpy as np\n",
    "telnet = df[\"telnet\"]\n",
    "percentile = np.percentile(telnet,  50,)\n",
    "print(percentile)"
   ]
  },
  {
   "cell_type": "code",
   "execution_count": 91,
   "id": "3a2b1be2-4c91-4266-89ac-2ebf852269e5",
   "metadata": {},
   "outputs": [
    {
     "name": "stdout",
     "output_type": "stream",
     "text": [
      "0.0\n"
     ]
    }
   ],
   "source": [
    "import numpy as np\n",
    "telnet = df[\"telnet\"]\n",
    "percentile = np.percentile(telnet,  75,)\n",
    "print(percentile)"
   ]
  },
  {
   "cell_type": "markdown",
   "id": "03b61c61-c535-40f2-b1c9-06eed42a2414",
   "metadata": {},
   "source": [
    "# 10. Find the mode of the 'you' feature."
   ]
  },
  {
   "cell_type": "code",
   "execution_count": 107,
   "id": "5017f3b5-1c89-4e05-8ea7-c49b76a6a814",
   "metadata": {},
   "outputs": [
    {
     "name": "stdout",
     "output_type": "stream",
     "text": [
      "Mode for you feature = 0    0.0\n",
      "Name: you, dtype: float64\n"
     ]
    }
   ],
   "source": [
    "# 10. Find the mode of the 'you' feature.\n",
    "you = df[\"you\"]\n",
    "mode = you.mode()\n",
    "print(f\"Mode for you feature = {mode}\")\n"
   ]
  },
  {
   "cell_type": "markdown",
   "id": "6e9f3ac9-3ae9-4b71-9ae3-2f433a4207ba",
   "metadata": {},
   "source": [
    "# 11. Calculate the interquartile range (IQR) for 'business'."
   ]
  },
  {
   "cell_type": "code",
   "execution_count": 105,
   "id": "61dc972a-a316-4f67-96da-e8d8d290c5a3",
   "metadata": {},
   "outputs": [
    {
     "name": "stdout",
     "output_type": "stream",
     "text": [
      "Interquartile range (IQR) for business = 0.0 \n"
     ]
    }
   ],
   "source": [
    "# 11. Calculate the interquartile range (IQR) for 'business'.\n",
    "business = df.business.sort_values()\n",
    "Q1 = np.percentile(business, 25)\n",
    "Q2 = np.percentile(business, 50)\n",
    "Q3 = np.percentile(business, 75)\n",
    "\n",
    "IQR = Q3 - Q1\n",
    "print(f\"Interquartile range (IQR) for business = {IQR} \")"
   ]
  },
  {
   "cell_type": "markdown",
   "id": "78165f15-817f-4853-8a0d-792cf11b3b8a",
   "metadata": {},
   "source": [
    "# 12. Compute the skewness and kurtosis of the 'credit' feature."
   ]
  },
  {
   "cell_type": "code",
   "execution_count": 114,
   "id": "27f0a821-9724-409a-8561-91141c0da3c5",
   "metadata": {},
   "outputs": [
    {
     "name": "stdout",
     "output_type": "stream",
     "text": [
      "Skewness = 14.602586644736904 and Kurtosis = 383.0018817314078\n"
     ]
    }
   ],
   "source": [
    "# 12. Compute the skewness and kurtosis of the 'credit' feature.\n",
    "# Kurtosis of just credit column\n",
    "sk_credit=df.loc[:,\"credit\"].kurt()\n",
    "\n",
    "skewness = df.credit.skew()\n",
    "\n",
    "print(f\"Skewness = {skewness} and Kurtosis = {sk_credit}\")"
   ]
  },
  {
   "cell_type": "code",
   "execution_count": 120,
   "id": "2e3b9705-6d1a-4343-a224-496df7322aac",
   "metadata": {},
   "outputs": [
    {
     "name": "stdout",
     "output_type": "stream",
     "text": [
      "Requirement already satisfied: scipy in c:\\programdata\\miniconda3\\envs\\pythoncybr520\\lib\\site-packages (1.14.1)\n",
      "Requirement already satisfied: numpy<2.3,>=1.23.5 in c:\\users\\dfeig\\appdata\\roaming\\python\\python311\\site-packages (from scipy) (2.1.3)\n"
     ]
    }
   ],
   "source": [
    "!pip install scipy"
   ]
  },
  {
   "cell_type": "markdown",
   "id": "ebe55468-4b7b-4721-8a53-53b62b4ade2d",
   "metadata": {},
   "source": [
    "# 13. Calculate the correlation coefficient between 'capitalAve' and 'capitalTotal'."
   ]
  },
  {
   "cell_type": "code",
   "execution_count": 117,
   "id": "9a6c8c58-4d53-4648-80d1-d8b95e5e7a39",
   "metadata": {},
   "outputs": [
    {
     "name": "stdout",
     "output_type": "stream",
     "text": [
      "p-value:\t 1.5617328392696482e-28\n",
      "cor:\t\t 0.1623136090977767\n"
     ]
    }
   ],
   "source": [
    "# 13. Calculate the correlation coefficient between 'capitalAve' and 'capitalTotal'.\n",
    "from scipy import stats\n",
    "\n",
    "corr = stats.pearsonr(df[\"capitalAve\"], df[\"capitalTotal\"])\n",
    "print(\"p-value:\\t\", corr[1])\n",
    "print(\"cor:\\t\\t\", corr[0])"
   ]
  },
  {
   "cell_type": "markdown",
   "id": "1feb2149-6708-46e0-aebc-88b62b29b296",
   "metadata": {},
   "source": [
    "# 14. Determine the range of values for 'num857'."
   ]
  },
  {
   "cell_type": "code",
   "execution_count": 123,
   "id": "80219240-645b-4d5c-8f60-d05d252c4d96",
   "metadata": {},
   "outputs": [
    {
     "name": "stdout",
     "output_type": "stream",
     "text": [
      "Minimum value of num857: 0.0\n",
      "Maximum value of num857: 4.76\n",
      "Range of num857: 4.76\n"
     ]
    }
   ],
   "source": [
    "# 14. Determine the range of values for 'num857'.\n",
    "min = df['num857'].min()\n",
    "max = df['num857'].max()\n",
    "range = max - min\n",
    "\n",
    "#Printing results\n",
    "print(f\"Minimum value of num857: {min}\")\n",
    "print(f\"Maximum value of num857: {max}\")\n",
    "print(f\"Range of num857: {range}\")"
   ]
  },
  {
   "cell_type": "markdown",
   "id": "55488c00-de5b-4aca-99a4-a6f83d006869",
   "metadata": {},
   "source": [
    "# 15. Calculate the variance of 'money'."
   ]
  },
  {
   "cell_type": "code",
   "execution_count": 125,
   "id": "f815d31b-92d1-479b-8fc9-5efc3729b85e",
   "metadata": {},
   "outputs": [
    {
     "name": "stdout",
     "output_type": "stream",
     "text": [
      "Variance of money = 0.19592620955746862\n"
     ]
    }
   ],
   "source": [
    "# 15. Calculate the variance of 'money'.\n",
    "var_money=df.loc[:,\"money\"].var()\n",
    "print(f\"Variance of money = {var_money}\")"
   ]
  },
  {
   "cell_type": "code",
   "execution_count": 129,
   "id": "65bfe0d2-4738-40a7-b2f4-e019269f5dbf",
   "metadata": {},
   "outputs": [
    {
     "name": "stdout",
     "output_type": "stream",
     "text": [
      "Collecting seaborn\n",
      "  Downloading seaborn-0.13.2-py3-none-any.whl.metadata (5.4 kB)\n",
      "Requirement already satisfied: numpy!=1.24.0,>=1.20 in c:\\users\\dfeig\\appdata\\roaming\\python\\python311\\site-packages (from seaborn) (2.1.3)\n",
      "Requirement already satisfied: pandas>=1.2 in c:\\users\\dfeig\\appdata\\roaming\\python\\python311\\site-packages (from seaborn) (2.2.3)\n",
      "Requirement already satisfied: matplotlib!=3.6.1,>=3.4 in c:\\programdata\\miniconda3\\envs\\pythoncybr520\\lib\\site-packages (from seaborn) (3.9.2)\n",
      "Requirement already satisfied: contourpy>=1.0.1 in c:\\programdata\\miniconda3\\envs\\pythoncybr520\\lib\\site-packages (from matplotlib!=3.6.1,>=3.4->seaborn) (1.3.0)\n",
      "Requirement already satisfied: cycler>=0.10 in c:\\programdata\\miniconda3\\envs\\pythoncybr520\\lib\\site-packages (from matplotlib!=3.6.1,>=3.4->seaborn) (0.12.1)\n",
      "Requirement already satisfied: fonttools>=4.22.0 in c:\\programdata\\miniconda3\\envs\\pythoncybr520\\lib\\site-packages (from matplotlib!=3.6.1,>=3.4->seaborn) (4.54.1)\n",
      "Requirement already satisfied: kiwisolver>=1.3.1 in c:\\programdata\\miniconda3\\envs\\pythoncybr520\\lib\\site-packages (from matplotlib!=3.6.1,>=3.4->seaborn) (1.4.7)\n",
      "Requirement already satisfied: packaging>=20.0 in c:\\programdata\\miniconda3\\envs\\pythoncybr520\\lib\\site-packages (from matplotlib!=3.6.1,>=3.4->seaborn) (24.1)\n",
      "Requirement already satisfied: pillow>=8 in c:\\programdata\\miniconda3\\envs\\pythoncybr520\\lib\\site-packages (from matplotlib!=3.6.1,>=3.4->seaborn) (11.0.0)\n",
      "Requirement already satisfied: pyparsing>=2.3.1 in c:\\programdata\\miniconda3\\envs\\pythoncybr520\\lib\\site-packages (from matplotlib!=3.6.1,>=3.4->seaborn) (3.2.0)\n",
      "Requirement already satisfied: python-dateutil>=2.7 in c:\\programdata\\miniconda3\\envs\\pythoncybr520\\lib\\site-packages (from matplotlib!=3.6.1,>=3.4->seaborn) (2.9.0.post0)\n",
      "Requirement already satisfied: pytz>=2020.1 in c:\\programdata\\miniconda3\\envs\\pythoncybr520\\lib\\site-packages (from pandas>=1.2->seaborn) (2024.1)\n",
      "Requirement already satisfied: tzdata>=2022.7 in c:\\users\\dfeig\\appdata\\roaming\\python\\python311\\site-packages (from pandas>=1.2->seaborn) (2024.2)\n",
      "Requirement already satisfied: six>=1.5 in c:\\programdata\\miniconda3\\envs\\pythoncybr520\\lib\\site-packages (from python-dateutil>=2.7->matplotlib!=3.6.1,>=3.4->seaborn) (1.16.0)\n",
      "Downloading seaborn-0.13.2-py3-none-any.whl (294 kB)\n",
      "Installing collected packages: seaborn\n",
      "Successfully installed seaborn-0.13.2\n"
     ]
    }
   ],
   "source": [
    "!pip install seaborn"
   ]
  },
  {
   "cell_type": "markdown",
   "id": "67a01aad-3ccb-4dfa-9a16-eb27d5d299c9",
   "metadata": {},
   "source": [
    "# 16. Generate a correlation matrix for all numeric features in the dataset"
   ]
  },
  {
   "cell_type": "code",
   "execution_count": 156,
   "id": "1984ab37-a0bf-47cb-a373-d8c09b7244bd",
   "metadata": {},
   "outputs": [
    {
     "data": {
      "image/png": "[encoded data removed]",
      "text/plain": [
       "<Figure size 1000x800 with 2 Axes>"
      ]
     },
     "metadata": {},
     "output_type": "display_data"
    }
   ],
   "source": [
    "# 16. Generate a correlation matrix for all numeric features in the dataset\n",
    "\n",
    "import seaborn as sns\n",
    "\n",
    "#Sorting only numerical values\n",
    "numeric_features = df.select_dtypes(include=['number'])\n",
    "\n",
    "# Generating correltaion matric\n",
    "correlation_matrix = numeric_features.corr()\n",
    "\n",
    "# Plotting as a heatmap\n",
    "plt.figure(figsize=(10, 8))  \n",
    "sns.heatmap(correlation_matrix)\n",
    "\n",
    "plt.title('Correlation Matrix for All Numeric Features')\n",
    "plt.show()"
   ]
  },
  {
   "cell_type": "markdown",
   "id": "41ae0765-7743-46a1-9153-884e4474b048",
   "metadata": {},
   "source": [
    "# 17. Identify the two features with the highest positive correlation and the two with the highest negative correlation."
   ]
  },
  {
   "cell_type": "code",
   "execution_count": 144,
   "id": "ba2c6965-f3a4-4f4f-aaeb-cd1f5061a072",
   "metadata": {},
   "outputs": [
    {
     "name": "stdout",
     "output_type": "stream",
     "text": [
      "Two highest positive correlations:\n",
      "num415  num857    0.996066\n",
      "num857  num415    0.996066\n",
      "dtype: float64\n",
      "\n",
      "Two highest negative correlations:\n",
      "you  hp    -0.197683\n",
      "hp   you   -0.197683\n",
      "dtype: float64\n"
     ]
    }
   ],
   "source": [
    "# 17. Identify the two features with the highest positive correlation and the two with the highest negative correlation.\n",
    "\n",
    "#I had to use internet/chatgpt to help me with this one. I was struggling lol\n",
    "\n",
    "numeric_df = df.select_dtypes(include=['number'])\n",
    "\n",
    "# Generate the correlation matrix\n",
    "correlation_matrix1 = numeric_df.corr()\n",
    "\n",
    "# Unstack the correlation matrix and drop self-correlations (correlation of a feature with itself)\n",
    "correlation_pairs = correlation_matrix1.unstack()\n",
    "correlation_pairs = correlation_pairs[correlation_pairs != 1]  # Exclude self-correlation (correlation=1)\n",
    "\n",
    "# Sort the correlation pairs to find the highest positive and lowest (negative) correlations\n",
    "sorted_correlation_pairs = correlation_pairs.sort_values()\n",
    "\n",
    "# Find the two highest positive correlations\n",
    "highest_positive = sorted_correlation_pairs[-2:]  # Last two values in sorted order\n",
    "\n",
    "# Find the two highest negative correlations\n",
    "highest_negative = sorted_correlation_pairs[:2]  # First two values in sorted order\n",
    "\n",
    "# Display the results\n",
    "print(\"Two highest positive correlations:\")\n",
    "print(highest_positive)\n",
    "print(\"\\nTwo highest negative correlations:\")\n",
    "print(highest_negative)"
   ]
  },
  {
   "cell_type": "markdown",
   "id": "005fce53-f785-428b-abd3-abf7e9470ae4",
   "metadata": {},
   "source": [
    "# 18. Visualize the correlation matrix using a heatmap."
   ]
  },
  {
   "cell_type": "code",
   "execution_count": 153,
   "id": "bdf574e1-ba96-44a1-9674-719005428779",
   "metadata": {
    "scrolled": true
   },
   "outputs": [
    {
     "data": {
      "image/png": "[encoded data removed]",
      "text/plain": [
       "<Figure size 800x600 with 2 Axes>"
      ]
     },
     "metadata": {},
     "output_type": "display_data"
    }
   ],
   "source": [
    "# 18. Visualize the correlation matrix using a heatmap.\n",
    "top_correlations = pd.concat([highest_positive, highest_negative])\n",
    "\n",
    "# Reshape into a DataFrame for the heatmap\n",
    "top_correlation_matrix = top_correlations.unstack()\n",
    "\n",
    "# Plot the heatmap\n",
    "plt.figure(figsize=(8, 6))\n",
    "sns.heatmap(top_correlation_matrix)\n",
    "plt.title(\"Top Positive and Negative Correlations\")\n",
    "plt.show()"
   ]
  },
  {
   "cell_type": "markdown",
   "id": "10bc8c44-db20-420b-aeb7-f651d16f0e20",
   "metadata": {},
   "source": [
    "# 19. Calculate the correlation coefficient between 'remove' and 'internet'."
   ]
  },
  {
   "cell_type": "code",
   "execution_count": 175,
   "id": "f03ed1f6-8662-4732-a676-e0ac12e61314",
   "metadata": {},
   "outputs": [
    {
     "name": "stdout",
     "output_type": "stream",
     "text": [
      "p-value:\t 0.0025092206146051605\n",
      "cor:\t\t 0.044545455253083184\n"
     ]
    }
   ],
   "source": [
    "# 19. Calculate the correlation coefficient between 'remove' and 'internet'.\n",
    "from scipy import stats\n",
    "\n",
    "corr = stats.pearsonr(df[\"remove\"], df[\"internet\"])\n",
    "print(\"p-value:\\t\", corr[1])\n",
    "print(\"cor:\\t\\t\", corr[0])"
   ]
  },
  {
   "cell_type": "markdown",
   "id": "6213fe7b-2126-41ae-b531-7b9e88bfa3b1",
   "metadata": {},
   "source": [
    "# 20. Determine the correlation between 'num3d' and 'num000'."
   ]
  },
  {
   "cell_type": "code",
   "execution_count": 166,
   "id": "889267cb-d5fc-4e0b-9095-dbb90667bc73",
   "metadata": {},
   "outputs": [
    {
     "name": "stdout",
     "output_type": "stream",
     "text": [
      "p-value:\t 0.44077359705315916\n",
      "cor:\t\t 0.01136760291269132\n",
      "Low Positive Correlation\n"
     ]
    }
   ],
   "source": [
    "# 20. Determine the correlation between 'num3d' and 'num000'.\n",
    "from scipy import stats\n",
    "\n",
    "corr = stats.pearsonr(df[\"num3d\"], df[\"num000\"])\n",
    "print(\"p-value:\\t\", corr[1])\n",
    "print(\"cor:\\t\\t\", corr[0])\n",
    "print(\"Low Positive Correlation\")"
   ]
  },
  {
   "cell_type": "markdown",
   "id": "e3888464-c077-4d28-aebf-856b85bdd54b",
   "metadata": {},
   "source": [
    "# 21. Perform a correlation analysis between 'font' and 'money'."
   ]
  },
  {
   "cell_type": "code",
   "execution_count": 172,
   "id": "b19fa173-3fb5-4408-a389-815125288828",
   "metadata": {},
   "outputs": [
    {
     "name": "stdout",
     "output_type": "stream",
     "text": [
      "p-value:\t 0.4592004631826048\n",
      "cor:\t\t -0.010914578055005706\n",
      "Low Negative Correlation\n"
     ]
    },
    {
     "data": {
      "text/plain": [
       "Text(0, 0.5, 'money')"
      ]
     },
     "execution_count": 172,
     "metadata": {},
     "output_type": "execute_result"
    },
    {
     "data": {
      "image/png": "[encoded data removed]",
      "text/plain": [
       "<Figure size 640x480 with 1 Axes>"
      ]
     },
     "metadata": {},
     "output_type": "display_data"
    }
   ],
   "source": [
    "# 21. Perform a correlation analysis between 'font' and 'money'.\n",
    "from scipy import stats\n",
    "\n",
    "corr = stats.pearsonr(df[\"font\"], df[\"money\"])\n",
    "print(\"p-value:\\t\", corr[1])\n",
    "print(\"cor:\\t\\t\", corr[0])\n",
    "print(\"Low Negative Correlation\")\n",
    "\n",
    "#Bivariate Analysis\n",
    "plt.scatter(df[\"font\"], df[\"money\"])\n",
    "plt.title(\"Scatter Plot for font vs money\")\n",
    "plt.xlabel(\"font\")\n",
    "plt.ylabel(\"money\")"
   ]
  },
  {
   "cell_type": "markdown",
   "id": "84833038-8fb6-4b38-a3c5-22a199e04550",
   "metadata": {},
   "source": [
    "# 22. Calculate the correlation between 'table' and 'technology'."
   ]
  },
  {
   "cell_type": "code",
   "execution_count": 163,
   "id": "0e465f64-b3d3-456e-8979-8ab540c782ae",
   "metadata": {},
   "outputs": [
    {
     "name": "stdout",
     "output_type": "stream",
     "text": [
      "p-value:\t 0.9670741656875257\n",
      "cor:\t\t -0.000608712061456866\n"
     ]
    }
   ],
   "source": [
    "# 22. Calculate the correlation between 'table' and 'technology'.\n",
    "from scipy import stats\n",
    "import matplotlib.pyplot as plt\n",
    "\n",
    "corr = stats.pearsonr(df[\"table\"], df[\"technology\"])\n",
    "print(\"p-value:\\t\", corr[1])\n",
    "print(\"cor:\\t\\t\", corr[0])\n"
   ]
  },
  {
   "cell_type": "markdown",
   "id": "118ff6b5-d543-4c39-9434-30a2c161de8c",
   "metadata": {},
   "source": [
    "# 23. Describe the characteristics of data that make a bar chart suitable for visualization."
   ]
  },
  {
   "cell_type": "markdown",
   "id": "83f9c424-cf76-45eb-acaf-5039d3178e9d",
   "metadata": {},
   "source": [
    "Bar charts are used to distinguish objects between distinct collections in order to track variations over time. They are best used when changes in the data are large."
   ]
  },
  {
   "cell_type": "markdown",
   "id": "b449a8e6-0f47-4d03-95b9-edd2ebe5a8c7",
   "metadata": {},
   "source": [
    "# 24. Explain when it is appropriate to use a scatter plot for data exploration."
   ]
  },
  {
   "cell_type": "markdown",
   "id": "56afcb50-6658-4956-bc45-985bf1dbcc34",
   "metadata": {},
   "source": [
    "There are two situations when one should use a scatter plot. The first is when one continous variable is dependent on another variable, which is under the control of the observer. The second is when both continuous variables are independent. "
   ]
  },
  {
   "cell_type": "markdown",
   "id": "4ef4bce4-d71e-4fc7-831d-ab889d58afee",
   "metadata": {},
   "source": [
    "# 25. Discuss the advantages and disadvantages of using a pie chart for categorical data."
   ]
  },
  {
   "cell_type": "markdown",
   "id": "034da1fa-93dc-4b5c-9047-c7ae6afd7528",
   "metadata": {},
   "source": [
    "There are a few advantages and disadvantages to using a pie chart for categorical data and is often an argument in the community. First, some people are not good at determining the size of obtuse and or acute angles within the circle. This can lead to innacurate assumptions. Another disadvantage is that humans are generally not good at determing differences in the slices of a circle. This can also lead to discrepencies. However, an advantage to using a pie chart is that people just love circles. They are aesthetically pleasing and uniform. They make it easy to communicate proportions in a figure that everyone can recognize."
   ]
  },
  {
   "cell_type": "markdown",
   "id": "8b9ab7be-164e-451e-b0fa-dbc093a18f00",
   "metadata": {},
   "source": [
    "# 26. When would you choose a line chart over a histogram for data visualization?"
   ]
  },
  {
   "cell_type": "markdown",
   "id": "edfd5885-65f4-4ade-809d-bd57fd97d960",
   "metadata": {},
   "source": [
    "Line charts are useful when you have time series data or data that needs to be visualized in chronological order. Line charts can also be more useful when you need to compare multiple series and highlight relationships. On the other hand, a histogram may be more beneficial when you have large datasets or need to visualize distributions. Histograms also allow you to bin data into ranges. "
   ]
  },
  {
   "cell_type": "markdown",
   "id": "71911d5d-9238-4620-be8c-00ddd0289a6d",
   "metadata": {},
   "source": [
    "# 27. Describe a scenario where a table chart is more informative than other chart types."
   ]
  },
  {
   "cell_type": "markdown",
   "id": "8ea0c441-3a15-435b-9a9c-470dcaac53ad",
   "metadata": {},
   "source": [
    "A table chart may be preferred over another type of chart when percision and readability are critical. Table charts are easy to read and provide exact figures. This type of chart would deal best in a situation such as financial reporting. "
   ]
  },
  {
   "cell_type": "markdown",
   "id": "bbbe9339-3030-4998-be67-1a92215394b4",
   "metadata": {},
   "source": [
    "# 28. Explain the key insights you can gain from a histogram."
   ]
  },
  {
   "cell_type": "markdown",
   "id": "047509b6-1225-404d-aa72-27957bd0d6e3",
   "metadata": {},
   "source": [
    "There are quite a few key insights you can gain from a histogram, thus making it a very popular choice. One key insight you can gain from a histogram is the ability to view distributions within datasets. You can use histograms to see the skewness within the data. A histogram also allows you to determine and visualize the mean, median, and mode. Another great insight of using a histogram is that you can determine frequency within data using bins. This can be helpful to identify outliers as well. A histogram can also help to show where you have gaps in your data, as well as show where you have uniformity. "
   ]
  },
  {
   "cell_type": "code",
   "execution_count": null,
   "id": "1db1c277-627f-4734-8119-7fc73b3f3050",
   "metadata": {},
   "outputs": [],
   "source": []
  }
 ],
 "metadata": {
  "kernelspec": {
   "display_name": "Python 3 (ipykernel)",
   "language": "python",
   "name": "python3"
  },
  "language_info": {
   "codemirror_mode": {
    "name": "ipython",
    "version": 3
   },
   "file_extension": ".py",
   "mimetype": "text/x-python",
   "name": "python",
   "nbconvert_exporter": "python",
   "pygments_lexer": "ipython3",
   "version": "3.11.10"
  }
 },
 "nbformat": 4,
 "nbformat_minor": 5
}
